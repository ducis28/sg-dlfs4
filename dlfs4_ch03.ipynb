{
  "nbformat": 4,
  "nbformat_minor": 0,
  "metadata": {
    "colab": {
      "provenance": [],
      "toc_visible": true
    },
    "kernelspec": {
      "name": "python3",
      "display_name": "Python 3"
    },
    "language_info": {
      "name": "python"
    }
  },
  "cells": [
    {
      "cell_type": "markdown",
      "metadata": {
        "id": "view-in-github",
        "colab_type": "text"
      },
      "source": [
        "[![Open In Colab](https://colab.research.google.com/assets/colab-badge.svg)](https://colab.research.google.com/github/ducis28/sg-dlfs4/blob/main/dlfs4_ch03.ipynb)"
      ]
    },
    {
      "cell_type": "markdown",
      "source": [
        "# 『ゼロから作るDeep Learning ❹ 強化学習編』\n",
        "\n",
        "https://github.com/oreilly-japan/deep-learning-from-scratch-4"
      ],
      "metadata": {
        "id": "rOn2_nYLE99E"
      }
    },
    {
      "cell_type": "markdown",
      "source": [
        "## 第3章 ベルマン方程式"
      ],
      "metadata": {
        "id": "lyjnXMUuFbQV"
      }
    },
    {
      "cell_type": "markdown",
      "source": [
        "状態価値関数 $v_\\pi(s)$，行動価値関数 $q_\\pi(s,a)$ やベルマン方程式について学ぶ。\n",
        "\n",
        "状態価値関数は，単に価値関数とよばれることがある。\n",
        "\n",
        "行動価値関数は，慣習として Q 関数とよばれることがある。\n"
      ],
      "metadata": {
        "id": "Q98gy8E-iLET"
      }
    },
    {
      "cell_type": "markdown",
      "source": [
        "### 3.1 ベルマン方程式の導出"
      ],
      "metadata": {
        "id": "gjC3l86CZHaW"
      }
    },
    {
      "cell_type": "markdown",
      "source": [
        "時刻 $t$ における収益（リターン）を以下のように定義する。\n",
        "\n",
        "$$\n",
        "G_t = R_t + \\gamma R_{t+1} + \\gamma^2 R_{t+2} + \\cdots\n",
        "$$\n",
        "\n",
        "ただし，$R_t$ は時刻 $t$ に得られる報酬（reward）であり，$\\gamma$ は割引率（discount factor, $0<\\gamma<1$）である。"
      ],
      "metadata": {
        "id": "lYO-ucFox2Bf"
      }
    },
    {
      "cell_type": "markdown",
      "source": [
        "これを変形すると\n",
        "\n",
        "$$\n",
        "G_t = R_t + \\gamma G_{t+1}\n",
        "$$"
      ],
      "metadata": {
        "id": "UF1iM-lmyl9g"
      }
    },
    {
      "cell_type": "markdown",
      "source": [
        "方策 $\\pi$ に対する状態 $s$ の価値を **状態価値関数** $v_\\pi(s)$ によって表すと，\n",
        "\n",
        "$$\n",
        "\\newcommand{\\UL}[2]{\\color{#1}{\\underline{\\color{black}{#2}}}}\n",
        "$$\n",
        "\n",
        "$$\n",
        "\\begin{align*}\n",
        "v_\\pi(s)\n",
        "&= \\mathbb{E}_\\pi\\left[ G_t \\mid S_t = s \\right]\n",
        "\\\\\n",
        "&= \\UL{#FF4B00}{\\mathbb{E}_\\pi\\left[ R_t \\mid S_t = s \\right]}\n",
        "   + \\gamma \\cdot \\UL{#005AFF}{\\mathbb{E}_\\pi\\left[ G_{t+1} \\mid S_t = s \\right]}\n",
        "\\end{align*}\n",
        "$$"
      ],
      "metadata": {
        "id": "FbP-c4HQysaO"
      }
    },
    {
      "cell_type": "markdown",
      "source": [
        "*   エージェントの方策 $\\pi(a \\mid s)$\n",
        "*   環境の状態遷移確率 $p(s' \\mid s, a)$\n",
        "*   環境の報酬 $r(s,a,s')$\n",
        "\n",
        "を用いると，\n",
        "\n",
        "$$\n",
        "\\UL{#FF4B00}{\\mathbb{E}_\\pi\\left[ R_t \\mid S_t = s \\right]}\n",
        "=\n",
        "\\sum_{a} \\sum_{s'} \\pi(a \\mid s) \\cdot p(s' \\mid s, a) \\cdot r(s,a,s')\n",
        "$$\n",
        "\n",
        "である。"
      ],
      "metadata": {
        "id": "1j7OZHL6zgyG"
      }
    },
    {
      "cell_type": "markdown",
      "source": [
        "また，\n",
        "\n",
        "$$\n",
        "\\begin{align*}\n",
        "\\UL{#005AFF}{\\mathbb{E}_\\pi\\left[ G_{t+1} \\mid S_t = s \\right]}\n",
        "&=\n",
        "\\sum_{s'} P\\left[ S_{t+1} = s' \\mid S_t = s \\right]\n",
        "\\cdot\n",
        "\\mathbb{E}_\\pi\\left[ G_{t+1} \\mid S_t = s, S_{t+1} = s' \\right]\n",
        "\\\\\n",
        "&=\n",
        "\\sum_{s'} P\\left[ S_{t+1} = s' \\mid S_t = s \\right]\n",
        "\\cdot\n",
        "\\mathbb{E}_\\pi\\left[ G_{t+1} \\mid S_{t+1} = s' \\right]\n",
        "\\\\\n",
        "&=\n",
        "\\sum_{s'} \\sum_{a}\n",
        "\\pi(a \\mid s)\n",
        "\\cdot p(s' \\mid s, a)\n",
        "\\cdot\n",
        "v_\\pi(s')\n",
        "\\end{align*}\n",
        "$$\n",
        "\n",
        "である。"
      ],
      "metadata": {
        "id": "6Qv5qYoc0lZH"
      }
    },
    {
      "cell_type": "markdown",
      "source": [
        "これらをまとめると，次の **ベルマン方程式** （Bellman equation）が得られる。\n",
        "\n",
        "$$\n",
        "v_\\pi(s) = \\sum_{a,s'} \\pi(a \\mid s) \\cdot p(s' \\mid s,a) \\cdot \\left\\{ r(s,a,s') + \\gamma \\cdot v_\\pi(s') \\right\\}\n",
        "$$"
      ],
      "metadata": {
        "id": "UsO5LyBIXjtg"
      }
    },
    {
      "cell_type": "markdown",
      "source": [
        "特に，状態遷移が決定論的である場合は，関数 f が存在して\n",
        "\n",
        "$$\n",
        "p(s'\\mid s,a) = \\begin{cases} 1 & \\text{$s'=f(s,a)$のとき} \\\\ 0 & \\text{それ以外} \\end{cases}\n",
        "$$\n",
        "\n",
        "が成り立つ。\n",
        "\n",
        "このとき，ベルマン方程式は以下のように変形できる。\n",
        "\n",
        "$$\n",
        "v_\\pi(s) = \\sum_{a} \\pi(a \\mid s) \\cdot \\left\\{ r(s,a,s') + \\gamma \\cdot v_\\pi(s') \\right\\}\n",
        "\\\\\n",
        "\\text{ただし $s'=f(s,a)$}\n",
        "$$"
      ],
      "metadata": {
        "id": "soaWpGV1eLHn"
      }
    },
    {
      "cell_type": "markdown",
      "source": [
        "### 3.2 ベルマン方程式の例"
      ],
      "metadata": {
        "id": "YfCV6UAgZKr-"
      }
    },
    {
      "cell_type": "markdown",
      "source": [
        "2マスのグリッドワールドのインスタンスにおいて，状態価値関数を求めてみる。\n",
        "\n",
        "| 状態 $s$ | 行動 $a$ | → | &nbsp;&nbsp; 確率 &nbsp;&nbsp; | 次状態 $s'$ | &nbsp;&nbsp; 報酬 &nbsp;&nbsp; |\n",
        "|---|---||:---:|:---:|:---:|\n",
        "|L1|Left |→|$p$  |L1|$-1$|\n",
        "|L1|Right|→|$1-p$|L2|$+1$|\n",
        "|L2|Left |→|$1-q$|L1| $0$|\n",
        "|L2|Right|→|$q$  |L2|$-1$|\n"
      ],
      "metadata": {
        "id": "xnJ-zadPdA5X"
      }
    },
    {
      "cell_type": "markdown",
      "source": [
        "すべての場合についてベルマン方程式を書き下してみよう。\n",
        "\n",
        "$$\n",
        "\\begin{align*}\n",
        "v_\\pi(\\text{L1})\n",
        "&= \\sum_{a} \\pi(a\\mid\\text{L1}) \\cdot \\left\\{ r(\\text{L1},a,\\text{L1}) + \\gamma \\cdot v_\\pi(\\text{L1}) \\right\\}\n",
        "\\\\\n",
        "&= \\Bigl\\{\n",
        "  \\pi(\\text{Left}\\mid\\text{L1}) \\cdot\n",
        "    \\left\\{\n",
        "      r(\\text{L1},\\text{Left},\\text{L1}) + \\gamma \\cdot v_\\pi(\\text{L1})\n",
        "    \\right\\}\n",
        "\\\\\n",
        "&\\quad\\quad\n",
        "  +\n",
        "  \\pi(\\text{Right}\\mid\\text{L1}) \\cdot\n",
        "    \\left\\{\n",
        "      r(\\text{L1},\\text{Right},\\text{L1}) + \\gamma \\cdot v_\\pi(\\text{L1})\n",
        "    \\right\\}\n",
        "  \\Bigr\\}\n",
        "\\\\\n",
        "&= p \\cdot \\{ -1 + \\gamma \\cdot v_\\pi(\\text{L1}) \\}\n",
        "   + (1-p) \\cdot \\{ +1 + \\gamma \\cdot v_\\pi(\\text{L2}) \\}\n",
        "\\\\\n",
        "v_\\pi(\\text{L2})\n",
        "&= \\sum_{a} \\pi(\\text{Left}\\mid\\text{L2}) \\cdot \\left\\{ r(\\text{L2},\\text{Left},\\text{L1}) + \\gamma \\cdot v_\\pi(\\text{L1}) \\right\\}\n",
        "\\\\\n",
        "&= (1-q) \\cdot \\{ 0 + \\gamma \\cdot v_\\pi(\\text{L1}) \\}\n",
        "   + q \\cdot \\{ -1 + \\gamma \\cdot v_\\pi(\\text{L2}) \\}\n",
        "\\end{align*}\n",
        "$$"
      ],
      "metadata": {
        "id": "MPcl8Pko7Tb8"
      }
    },
    {
      "cell_type": "markdown",
      "source": [
        "$v_\\pi(\\text{L1})$, $v_\\pi(\\text{L2})$ をそれぞれ $v_1,v_2$ と書くことにして，上記の連立方程式を書き直すと:\n",
        "\n",
        "$$\n",
        "\\Bigl\\{\n",
        "\\begin{align*}\n",
        "v_1 &= 1 - 2p + p \\gamma v_1 + (1-p) \\gamma v_2\n",
        "\\\\\n",
        "v_2 &= -q + (1-q) \\gamma v_1 + q \\gamma v_2\n",
        "\\end{align*}\n",
        "$$\n",
        "\n",
        "$$\n",
        "\\begin{bmatrix}\n",
        "1-p\\gamma & -(1-p)\\gamma\n",
        "\\\\\n",
        "-(1-q)\\gamma & 1 - q \\gamma\n",
        "\\end{bmatrix}\n",
        "\\begin{bmatrix} v_1 \\\\ v_2 \\end{bmatrix}\n",
        "=\n",
        "\\begin{bmatrix} 1-2p \\\\ -q \\end{bmatrix}\n",
        "$$\n",
        "\n",
        "これを解くと\n",
        "\n",
        "$$\n",
        "\\begin{bmatrix} v_1 \\\\ v_2 \\end{bmatrix}\n",
        "=\n",
        "\\frac{1}{\\{1 - (p+q-1) \\gamma\\}(1 - \\gamma)}\n",
        "\\begin{bmatrix}\n",
        "3pq\\gamma-2p-2q\\gamma+1\n",
        "\\\\\n",
        "3pq\\gamma-2p\\gamma-q\\gamma-q+\\gamma\n",
        "\\end{bmatrix}\n",
        "$$\n"
      ],
      "metadata": {
        "id": "qlF4m8Ayt0gg"
      }
    },
    {
      "cell_type": "markdown",
      "source": [
        "たとえば，$p=q=\\frac{1}{2}$ のとき，\n",
        "\n",
        "$$\n",
        "\\begin{bmatrix} v_1 \\\\ v_2 \\end{bmatrix}\n",
        "=\n",
        "-\\frac{1}{4(1 - \\gamma)}\n",
        "\\begin{bmatrix}\n",
        "\\gamma\n",
        "\\\\\n",
        "2-\\gamma\n",
        "\\end{bmatrix}\n",
        "$$\n",
        "\n",
        "さらに，$\\gamma=0.9$ なら\n",
        "\n",
        "$$\n",
        "\\begin{bmatrix} v_1 \\\\ v_2 \\end{bmatrix}\n",
        "=\n",
        "\\begin{bmatrix}\n",
        "-2.25\n",
        "\\\\\n",
        "-2.75\n",
        "\\end{bmatrix}\n",
        "$$"
      ],
      "metadata": {
        "id": "72kCpePf-iVs"
      }
    },
    {
      "cell_type": "markdown",
      "source": [
        "### 3.3 行動価値関数とベルマン方程式"
      ],
      "metadata": {
        "id": "DUe0s_SUgwvS"
      }
    },
    {
      "cell_type": "markdown",
      "source": [
        "ある状態においてある行動をとったときに得られる収益を **行動価値関数**（action-value function）とよぶ。つまり，\n",
        "\n",
        "$$\n",
        "q_\\pi(s,a) = \\mathbb{E}_\\pi\\left[ G_t \\mid S_t = s, A_t = a \\right]\n",
        "$$"
      ],
      "metadata": {
        "id": "opJb5-hUg7G9"
      }
    },
    {
      "cell_type": "markdown",
      "source": [
        "状態 $s$ において方策 $\\pi$ にもとづいて行動すると，状態価値関数 $v_\\pi(s)$ を行動価値関数 $q_\\pi(s,a)$ を用いて以下のように表すことができる。\n",
        "\n",
        "$$\n",
        "v_\\pi(s) = \\sum_a \\pi(a\\mid s) \\cdot q_\\pi(s,a)\n",
        "$$"
      ],
      "metadata": {
        "id": "HMndFrdQjVXf"
      }
    },
    {
      "cell_type": "markdown",
      "source": [
        "行動価値関数を用いて，Q 関数バージョンのベルマン方程式を導出することができる。\n",
        "\n",
        "$$\n",
        "\\begin{align*}\n",
        "q_\\pi(s,a)\n",
        "&= \\mathbb{E}_\\pi\\left[ G_t \\mid S_t = s, A_t = a \\right]\n",
        "\\\\\n",
        "&= \\sum_{s'} p(s'\\mid s,a) \\cdot\n",
        "   \\mathbb{E}_\\pi\\left[\n",
        "     G_t \\mid S_t = s, A_t = a, S_{t+1} = s'\n",
        "   \\right]\n",
        "\\\\\n",
        "&= \\sum_{s'} p(s'\\mid s,a) \\cdot\n",
        "   \\mathbb{E}_\\pi\\left[\n",
        "     R_t + \\gamma G_{t+1} \\mid S_t = s, A_t = a, S_{t+1} = s'\n",
        "   \\right]\n",
        "\\\\\n",
        "&= \\sum_{s'} p(s'\\mid s,a) \\cdot \\Bigl\\{\n",
        "   \\mathbb{E}_\\pi\\left[\n",
        "     R_t \\mid S_t = s, A_t = a, S_{t+1} = s'\n",
        "   \\right]\n",
        "   + \\gamma\n",
        "   \\mathbb{E}_\\pi\\left[\n",
        "     G_{t+1} \\mid S_{t+1} = s'\n",
        "   \\right]\n",
        "   \\Bigr\\}\n",
        "\\\\\n",
        "&= \\sum_{s'} p(s'\\mid s,a) \\cdot \\Bigl\\{\n",
        "   r(s,a,s') + \\gamma \\cdot v_\\pi(s')\n",
        "   \\Bigr\\}\n",
        "\\\\\n",
        "&= \\sum_{s'} p(s'\\mid s,a) \\cdot \\Bigl\\{\n",
        "   r(s,a,s') + \\gamma \\cdot \\sum_{a'} \\pi(a\\mid s') \\cdot q_\\pi(s',a')\n",
        "   \\Bigr\\}\n",
        "\\end{align*}\n",
        "$$"
      ],
      "metadata": {
        "id": "uyIyxmM6kjwK"
      }
    },
    {
      "cell_type": "markdown",
      "source": [
        "### 3.4 ベルマン最適方程式"
      ],
      "metadata": {
        "id": "cV8ehvU4q3QK"
      }
    },
    {
      "cell_type": "markdown",
      "source": [
        "状態価値関数のベルマン方程式を再掲する。\n",
        "\n",
        "$$\n",
        "v_\\pi(s) = \\sum_a \\pi(a \\mid s) \\cdot \\sum_{s'} p(s' \\mid s,a) \\cdot \\left\\{ r(s,a,s') + \\gamma \\cdot\n",
        " v_\\pi(s') \\right\\}\n",
        "$$"
      ],
      "metadata": {
        "id": "MfeVDZLxkJg2"
      }
    },
    {
      "cell_type": "markdown",
      "source": [
        "最適方策を $\\pi_*$ とおき，最適方策についてのベルマン方程式 $v_{\\pi_*}(s)$ を $v_*(s)$ と書くことにする。\n",
        "\n",
        "$$\n",
        "v_*(s)\n",
        "= \\sum_a \\pi_*(a \\mid s) \\cdot \\sum_{s'} p(s' \\mid s,a) \\cdot \\left\\{ r(s,a,s') + \\gamma \\cdot\n",
        " v_*(s') \\right\\}\n",
        "$$\n",
        "\n",
        "方策 $\\pi_\\ast$ は最適，つまり $v_\\ast(s)$ を最大化する方策であることから，\n",
        "\n",
        "$$\n",
        "v_*(s)\n",
        "= \\max_a \\sum_{s'} p(s' \\mid s,a) \\cdot \\left\\{ r(s,a,s') + \\gamma \\cdot\n",
        " v_*(s') \\right\\}\n",
        "$$\n",
        "\n",
        "これを状態価値関数の **ベルマン最適方程式** とよぶ。"
      ],
      "metadata": {
        "id": "mB-35SeWrSep"
      }
    },
    {
      "cell_type": "markdown",
      "source": [
        "同様にして，Q 関数のベルマン最適方程式を導出することもできる。\n",
        "\n",
        "$$\n",
        "\\begin{align*}\n",
        "q_*(s,a)\n",
        "&= \\sum_{s'} p(s'\\mid s,a) \\cdot \\Bigl\\{\n",
        "   r(s,a,s') + \\gamma \\cdot \\sum_{a'} \\pi_*(a\\mid s') \\cdot q_*(s',a')\n",
        "   \\Bigr\\}\n",
        "\\\\\n",
        "&= \\sum_{s'} p(s'\\mid s,a) \\cdot \\Bigl\\{\n",
        "   r(s,a,s') + \\gamma \\cdot \\max_{a'} q_*(s',a')\n",
        "   \\Bigr\\}\n",
        "\\end{align*}\n",
        "$$"
      ],
      "metadata": {
        "id": "RZ6CTiootDJf"
      }
    },
    {
      "cell_type": "markdown",
      "source": [
        "さらに，状態遷移 $p(s'\\mid s,a)$ が決定論的であるとき，$s'=f(s,a)$ として， 2 つの最適方程式は以下のようになる。\n",
        "\n",
        "$$\n",
        "\\begin{align*}\n",
        "v_*(s)\n",
        "&= \\max_a \\left\\{ r(s,a,s') + \\gamma \\cdot\n",
        " v_*(s') \\right\\}\n",
        "\\\\\n",
        "q_*(s,a)\n",
        "&= r(s,a,s') + \\gamma \\cdot \\max_{a'} q_*(s',a')\n",
        "\\end{align*}\n",
        "$$"
      ],
      "metadata": {
        "id": "nrAo19uevFww"
      }
    },
    {
      "cell_type": "markdown",
      "source": [
        "### 3.5 ベルマン最適方程式の例"
      ],
      "metadata": {
        "id": "FKsNEuSLuHn3"
      }
    },
    {
      "cell_type": "markdown",
      "source": [
        "状態価値関数のベルマン最適方程式を再掲する。\n",
        "\n",
        "$$\n",
        "v_*(s)\n",
        "= \\max_a \\sum_{s'} p(s' \\mid s,a) \\cdot \\left\\{ r(s,a,s') + \\gamma \\cdot\n",
        " v_*(s') \\right\\}\n",
        "$$"
      ],
      "metadata": {
        "id": "x50QPPYPuPFx"
      }
    },
    {
      "cell_type": "markdown",
      "source": [
        "ふたたび 2 マスのグリッドワールドのインスタンスを考えよう。\n",
        "\n",
        "| 状態 $s$ | 行動 $a$ | → | &nbsp;&nbsp; 確率 &nbsp;&nbsp; | 次状態 $s'$ | &nbsp;&nbsp; 報酬 &nbsp;&nbsp; |\n",
        "|---|---||:---:|:---:|:---:|\n",
        "|L1|Left |→|$p$  |L1|$-1$|\n",
        "|L1|Right|→|$1-p$|L2|$+1$|\n",
        "|L2|Left |→|$1-q$|L1| $0$|\n",
        "|L2|Right|→|$q$  |L2|$-1$|\n"
      ],
      "metadata": {
        "id": "wijan5zPuYG-"
      }
    },
    {
      "cell_type": "markdown",
      "source": [
        "この場合，状態価値関数の最適方程式は\n",
        "\n",
        "$$\n",
        "\\begin{align*}\n",
        "v_*(\\text{L1})\n",
        "&= \\max \\left\\{ \\begin{array}{l}\n",
        "     \\displaystyle -1 + \\gamma \\cdot\n",
        " v_*(\\text{L1}) \\\\\n",
        "     \\displaystyle +1 + \\gamma \\cdot\n",
        " v_*(\\text{L2})\n",
        "   \\end{array} \\right.\n",
        "\\\\\n",
        "v_*(\\text{L2})\n",
        "&= \\max \\left\\{ \\begin{array}{l}\n",
        "     \\displaystyle 0 + \\gamma \\cdot\n",
        " v_*(\\text{L1}) \\\\\n",
        "     \\displaystyle -1 + \\gamma \\cdot\n",
        " v_*(\\text{L2})\n",
        "   \\end{array} \\right.\n",
        "\\end{align*}\n",
        "$$"
      ],
      "metadata": {
        "id": "e9D2h2qmugnE"
      }
    },
    {
      "cell_type": "markdown",
      "source": [
        "$0 < \\gamma < 1$ に注意してこれを解くと（たとえば max を不等式に置き換えて必要条件を満たす領域を図示すると分かりやすい），\n",
        "\n",
        "$$\n",
        "\\left\\{\n",
        "\\begin{align*}\n",
        "v_*(\\text{L1}) &= \\frac{1}{1-\\gamma^2}\n",
        "\\\\\n",
        "v_*(\\text{L2}) &= \\frac{\\gamma}{1-\\gamma^2}\n",
        "\\end{align*}\n",
        "\\right.\n",
        "$$"
      ],
      "metadata": {
        "id": "Fa4LbjugVmEI"
      }
    },
    {
      "cell_type": "markdown",
      "source": [
        "特に，$\\gamma=0.9$ のとき，\n",
        "\n",
        "$$\n",
        "\\left\\{\n",
        "\\begin{align*}\n",
        "v_*(\\text{L1}) &= \\frac{1}{1-0.9^2} = 5.2631\\cdots\n",
        "\\\\\n",
        "v_*(\\text{L2}) &= \\frac{0.9}{1-0.9^2} = 4.7368\\cdots\n",
        "\\end{align*}\n",
        "\\right.\n",
        "$$"
      ],
      "metadata": {
        "id": "EP0g-U9Yuf2F"
      }
    },
    {
      "cell_type": "markdown",
      "source": [
        "次に，最適方策を考える。\n",
        "\n",
        "最適行動価値関数 $q_*(s,a)$ が存在するならば，最適な行動を次のように決定論的に選ぶことができる。\n",
        "\n",
        "$$\n",
        "\\mu_*(s) = \\mathop{\\rm argmax}_a\\;q_*(s,a)\n",
        "$$"
      ],
      "metadata": {
        "id": "HK1STtqOvoA4"
      }
    },
    {
      "cell_type": "markdown",
      "source": [
        "最適行動価値関数が満たすべき式を再掲する。\n",
        "$v_*(s)$ が計算済みであることをふまえて， $v_*(s)$ を用いるバージョンを選んだ。\n",
        "\n",
        "$$\n",
        "q_*(s,a)\n",
        "= \\sum_{s'} p(s'\\mid s,a) \\cdot \\Bigl\\{\n",
        "   r(s,a,s') + \\gamma \\cdot v_*(s')\n",
        "   \\Bigr\\}\n",
        "$$\n",
        "\n",
        "さらに，状態遷移が決定論的にふるまうのであれば $s'=f(s,a)$ について\n",
        "\n",
        "$$\n",
        "q_*(s,a)\n",
        "= r(s,a,s') + \\gamma \\cdot v_*(s')\n",
        "$$\n",
        "\n",
        "上式から，以下を得る。\n",
        "\n",
        "$$\n",
        "\\mu_*(s)\n",
        "= \\mathop{\\rm argmax}_a\n",
        "  \\left\\{\n",
        "    r(s,a,s') + \\gamma \\cdot v_*(s')\n",
        "  \\right\\}\n",
        "$$\n"
      ],
      "metadata": {
        "id": "qsKrPsuB16BF"
      }
    },
    {
      "cell_type": "markdown",
      "source": [
        "この式をグリッドワールドの問題に適用する。\n",
        "\n",
        "$$\n",
        "\\begin{align*}\n",
        "q_*(\\text{L1},\\text{Left})\n",
        "&= r(\\text{L1},\\text{Left},\\text{L1}) + \\gamma \\cdot v_*(\\text{L1})\n",
        " = -1 + \\gamma \\cdot \\frac{1}{1-\\gamma^2}\n",
        " = \\frac{\\gamma^2+\\gamma-1}{1-\\gamma^2}\n",
        "\\\\\n",
        "q_*(\\text{L1},\\text{Right})\n",
        "&= r(\\text{L1},\\text{Right},\\text{L2}) + \\gamma \\cdot v_*(\\text{L2})\n",
        " = +1 + \\gamma \\cdot \\frac{\\gamma}{1-\\gamma^2}\n",
        " = \\frac{1}{1-\\gamma^2}\n",
        "\\\\\n",
        "q_*(\\text{L2},\\text{Left})\n",
        "&= r(\\text{L2},\\text{Left},\\text{L1}) + \\gamma \\cdot v_*(\\text{L1})\n",
        " = 0 + \\gamma \\cdot \\frac{1}{1-\\gamma^2}\n",
        " = \\frac{\\gamma}{1-\\gamma^2}\n",
        "\\\\\n",
        "q_*(\\text{L2},\\text{Right})\n",
        "&= r(\\text{L2},\\text{Right},\\text{L2}) + \\gamma \\cdot v_*(\\text{L2})\n",
        " = -1 + \\gamma \\cdot \\frac{\\gamma}{1-\\gamma^2}\n",
        " = \\frac{2\\gamma^2-1}{1-\\gamma^2}\n",
        "\\end{align*}\n",
        "$$\n",
        "\n",
        "$q_*(\\text{L1},\\text{Left}) - q_*(\\text{L1},\\text{Right}) = \\frac{\\gamma^2+\\gamma-2}{1-\\gamma^2} = \\frac{-(1-\\gamma)(\\gamma+2)}{1-\\gamma^2}<0$ より\n",
        "\n",
        "$$\n",
        "\\mu_*(\\text{L1})\n",
        "=\n",
        "\\mathop{\\rm argmax}_a\\;q_*(\\text{L1},a)\n",
        "=\n",
        "\\text{Right}\n",
        "$$\n",
        "\n",
        "同様に $q_*(\\text{L2},\\text{Left}) - q_*(\\text{L2},\\text{Right}) = \\frac{-2\\gamma^2+\\gamma+1}{1-\\gamma^2} = \\frac{(1-\\gamma)(2\\gamma+1)}{1-\\gamma^2}>0$ より\n",
        "\n",
        "$$\n",
        "\\mu_*(\\text{L2})\n",
        "=\n",
        "\\mathop{\\rm argmax}_a\\;q_*(\\text{L2},a)\n",
        "=\n",
        "\\text{Left}\n",
        "$$\n"
      ],
      "metadata": {
        "id": "4UHSc1Yk3JN-"
      }
    },
    {
      "cell_type": "markdown",
      "source": [
        "### 3.6 まとめ"
      ],
      "metadata": {
        "id": "cT0N-EKdD35a"
      }
    },
    {
      "cell_type": "markdown",
      "source": [
        "### 【ベルマン方程式】\n",
        "\n",
        "$$\n",
        "v_\\pi(s) = \\sum_{a,s'} \\pi(a \\mid s) \\cdot p(s' \\mid s,a) \\cdot \\left\\{ r(s,a,s') + \\gamma \\cdot v_\\pi(s') \\right\\}\n",
        "$$\n",
        "\n",
        "$$\n",
        "q_\\pi(s,a)\n",
        "= \\sum_{s'} p(s'\\mid s,a) \\cdot \\Bigl\\{\n",
        "  r(s,a,s') + \\gamma \\cdot \\sum_{a'} \\pi(a\\mid s') \\cdot q_\\pi(s',a')\n",
        "  \\Bigr\\}\n",
        "$$"
      ],
      "metadata": {
        "id": "Ag_9QKxUEA1F"
      }
    },
    {
      "cell_type": "markdown",
      "source": [
        "### 【ベルマン最適方程式】\n",
        "\n",
        "$$\n",
        "v_*(s)\n",
        "= \\max_a \\sum_{s'} p(s' \\mid s,a) \\cdot \\left\\{ r(s,a,s') + \\gamma \\cdot\n",
        " v_*(s') \\right\\}\n",
        "\\\\\n",
        "q_*(s,a)\n",
        "= \\sum_{s'} p(s'\\mid s,a) \\cdot \\Bigl\\{\n",
        "   r(s,a,s') + \\gamma \\cdot \\max_{a'} q_*(s',a')\n",
        "   \\Bigr\\}\n",
        "$$"
      ],
      "metadata": {
        "id": "qMOLWQ1uEDbA"
      }
    },
    {
      "cell_type": "markdown",
      "source": [
        "### 【最適方策】\n",
        "\n",
        "$$\n",
        "\\begin{align*}\n",
        "\\mu_*(s)\n",
        "&= \\mathop{\\rm argmax}_a\\;q_*(s,a)\n",
        "\\\\\n",
        "&= \\mathop{\\rm argmax}_a\\sum_{s'} p(s'\\mid s,a) \\cdot \\Bigl\\{\n",
        "   r(s,a,s') + \\gamma \\cdot v_*(s')\n",
        "   \\Bigr\\}\n",
        "\\end{align*}\n",
        "$$"
      ],
      "metadata": {
        "id": "qc8WkdtqEFBA"
      }
    },
    {
      "cell_type": "markdown",
      "source": [
        "## メモ"
      ],
      "metadata": {
        "id": "tlhuZVeGJfMy"
      }
    },
    {
      "cell_type": "markdown",
      "source": [
        "### 第 3.5.1 節のベルマン最適方程式の解について"
      ],
      "metadata": {
        "id": "Ho19ZWX5JkEV"
      }
    },
    {
      "cell_type": "markdown",
      "source": [
        "書籍では，以下の方程式の解が説明なしに出てくる（「今回のような小さな問題であれば，手計算で求めることもできます。」と書いてあるのみ）。\n",
        "ただし書籍では $\\gamma=0.9$ としている。\n",
        "\n",
        "$$\n",
        "\\begin{align*}\n",
        "v_*(\\text{L1})\n",
        "&= \\max \\left\\{ \\begin{array}{l}\n",
        "     \\displaystyle -1 + \\gamma \\cdot\n",
        " v_*(\\text{L1}) \\\\\n",
        "     \\displaystyle +1 + \\gamma \\cdot\n",
        " v_*(\\text{L2})\n",
        "   \\end{array} \\right.\n",
        "\\\\\n",
        "v_*(\\text{L2})\n",
        "&= \\max \\left\\{ \\begin{array}{l}\n",
        "     \\displaystyle 0 + \\gamma \\cdot\n",
        " v_*(\\text{L1}) \\\\\n",
        "     \\displaystyle -1 + \\gamma \\cdot\n",
        " v_*(\\text{L2})\n",
        "   \\end{array} \\right.\n",
        "\\end{align*}\n",
        "$$"
      ],
      "metadata": {
        "id": "hgtITPI8J2e1"
      }
    },
    {
      "cell_type": "markdown",
      "source": [
        "行間を埋めるべく，導出してみよう。"
      ],
      "metadata": {
        "id": "jDbN_Mp-KGKq"
      }
    },
    {
      "cell_type": "markdown",
      "source": [
        "まず，$v_*(\\text{L1}),v_*(\\text{L2})$ を $x,y$ とおく。\n",
        "簡単のため，$\\gamma=0.9$ に固定しておく。"
      ],
      "metadata": {
        "id": "y5liH3D2Ka4y"
      }
    },
    {
      "cell_type": "markdown",
      "source": [
        "$$\n",
        "\\begin{align*}\n",
        "x\n",
        "&= \\max \\left\\{ \\begin{array}{l}\n",
        "     -1 + 0.9 x \\\\\n",
        "     1 + 0.9 y\n",
        "   \\end{array} \\right.\n",
        "\\\\\n",
        "y\n",
        "&= \\max \\left\\{ \\begin{array}{l}\n",
        "     \\displaystyle 0.9 x \\\\\n",
        "     \\displaystyle -1 + 0.9 y\n",
        "   \\end{array} \\right.\n",
        "\\end{align*}\n",
        "$$"
      ],
      "metadata": {
        "id": "fVrRDIFELovJ"
      }
    },
    {
      "cell_type": "markdown",
      "source": [
        "この方程式の解は，以下の不等式をすべて満たす。\n",
        "\n",
        "$$\n",
        "\\left\\{\n",
        "\\begin{align*}\n",
        "x &\\geq -1 + 0.9 x\n",
        "\\\\\n",
        "x &\\geq 1 + 0.9 y\n",
        "\\\\\n",
        "y &\\geq 0.9 x\n",
        "\\\\\n",
        "y &\\geq -1 + 0.9 y\n",
        "\\end{align*}\n",
        "\\right.\n",
        "$$"
      ],
      "metadata": {
        "id": "zJseb3glMIm0"
      }
    },
    {
      "cell_type": "markdown",
      "source": [
        "第2,3式から\n",
        "\n",
        "$$\n",
        "x \\geq 1 + 0.9 y \\geq 1 + 0.9 (0.9 x)\n",
        "$$\n",
        "\n",
        "これを解くと $x \\geq \\frac{1}{1-0.9^2}=5.2631\\cdots$\n",
        "\n",
        "もし $x=-1+0.9x$ ならば $x<0$ となり，$x > 5.26$ と矛盾する。したがって，$x \\neq -1+0.9x$ である。\n",
        "\n",
        "よって最適方程式の第1式は\n",
        "\n",
        "$$\n",
        "x = 1 + 0.9 y\n",
        "$$\n",
        "\n",
        "となる。\n",
        "\n",
        "同様に，最適方程式の第1式は\n",
        "\n",
        "$$\n",
        "y = 0.9 x\n",
        "$$\n",
        "\n",
        "となる。\n",
        "\n",
        "合わせると，\n",
        "\n",
        "$$\n",
        "\\left\\{\n",
        "\\begin{align*}\n",
        "x &= 1 + 0.9 y\n",
        "\\\\\n",
        "y &= 0.9 x\n",
        "\\end{align*}\n",
        "\\right.\n",
        "$$\n",
        "\n",
        "あとは通常の連立1次方程式である。\n",
        "\n",
        "これを解くと\n",
        "\n",
        "$$\n",
        "\\left\\{\n",
        "\\begin{align*}\n",
        "x &= \\frac{1}{1-0.9^2} = 5.2631\\cdots\n",
        "\\\\\n",
        "y &= \\frac{0.9}{1-0.9^2} = 4.7368\\cdots\n",
        "\\end{align*}\n",
        "\\right.\n",
        "$$"
      ],
      "metadata": {
        "id": "923qXjEwMfGR"
      }
    },
    {
      "cell_type": "markdown",
      "source": [
        "ところで，上記の連立不等式\n",
        "\n",
        "$$\n",
        "\\left\\{\n",
        "\\begin{align*}\n",
        "x &\\geq -1 + 0.9 x\n",
        "\\\\\n",
        "x &\\geq 1 + 0.9 y\n",
        "\\\\\n",
        "y &\\geq 0.9 x\n",
        "\\\\\n",
        "y &\\geq -1 + 0.9 y\n",
        "\\end{align*}\n",
        "\\right.\n",
        "$$\n",
        "\n",
        "が表す領域を $xy$ 平面に図示してみよう。\n"
      ],
      "metadata": {
        "id": "fXmhf1hzQgRT"
      }
    },
    {
      "cell_type": "code",
      "source": [
        "import sympy as sym\n",
        "\n",
        "x, y = sym.symbols('x y')\n",
        "\n",
        "# x = max { ... } に対応するのは，赤の領域の境界\n",
        "ax1 = sym.plot_implicit((x >= -1 + 0.9 * x) & (x >= 1 + 0.9 * y), (x, -30, 30), (y, -30, 30), line_color='#ff000060', alpha=0.5, show=False)\n",
        "\n",
        "# y = max { ... } に対応するのは，濃い青の領域の境界\n",
        "ax2 = sym.plot_implicit((y >= 0.9 * x) & (y >= -1 + 0.9 * y), (x, -30, 30), (y, -30, 30), line_color='#0000ff30', alpha=0.5, show=False)\n",
        "\n",
        "# まとめて描画する\n",
        "ax1.extend(ax2)\n",
        "ax1.show()"
      ],
      "metadata": {
        "colab": {
          "base_uri": "https://localhost:8080/",
          "height": 487
        },
        "id": "oCAKJC1gJgvr",
        "outputId": "88a06a15-eee5-46ce-bc00-f3f3a96a9ab2"
      },
      "execution_count": 24,
      "outputs": [
        {
          "output_type": "display_data",
          "data": {
            "text/plain": [
              "<Figure size 640x480 with 1 Axes>"
            ],
            "image/png": "[encoded data removed]"
          },
          "metadata": {}
        }
      ]
    },
    {
      "cell_type": "markdown",
      "source": [
        "解は，赤い領域の境界と青い領域の境界との交点であり，この場合は一意に定まることが分かる。"
      ],
      "metadata": {
        "id": "sCyW64JlYYiY"
      }
    }
  ]
}
