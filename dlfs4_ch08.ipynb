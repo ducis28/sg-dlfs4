{
  "nbformat": 4,
  "nbformat_minor": 0,
  "metadata": {
    "colab": {
      "provenance": [],
      "toc_visible": true,
      "gpuType": "T4"
    },
    "kernelspec": {
      "name": "python3",
      "display_name": "Python 3"
    },
    "language_info": {
      "name": "python"
    }
  },
  "cells": [
    {
      "cell_type": "markdown",
      "source": [
        "[![Open In Colab](https://colab.research.google.com/assets/colab-badge.svg)](https://colab.research.google.com/github/ducis28/sg-dlfs4/blob/main/dlfs4_ch08.ipynb)"
      ],
      "metadata": {
        "id": "7ZfeR_prW_R1"
      }
    },
    {
      "cell_type": "markdown",
      "source": [
        "# 『ゼロから作るDeep Learning ❹ 強化学習編』\n",
        "\n",
        "https://github.com/oreilly-japan/deep-learning-from-scratch-4"
      ],
      "metadata": {
        "id": "rOn2_nYLE99E"
      }
    },
    {
      "cell_type": "markdown",
      "source": [
        "## 第8章 DQN"
      ],
      "metadata": {
        "id": "lyjnXMUuFbQV"
      }
    },
    {
      "cell_type": "markdown",
      "source": [
        "- DQN (Deep Q Network)\n",
        "- DQN では「経験再生」と「ターゲットネットワーク」を使う\n",
        "- DQN を拡張した手法（「Double DQN」「優先度付き経験再生」「Dueling DQN」）も取り上げる\n",
        "- 本章では「グリッドワールド」でなく「カートポール」という問題を扱う"
      ],
      "metadata": {
        "id": "VL0TukKXErmG"
      }
    },
    {
      "cell_type": "markdown",
      "source": [
        "### 8.1 OpenAI Gym"
      ],
      "metadata": {
        "id": "i15-60vMDaUQ"
      }
    },
    {
      "cell_type": "markdown",
      "source": [
        "- OpenAI Gym (GitHub) https://github.com/openai/gym\n",
        "\n",
        "> The team that has been maintaining Gym since 2021 has moved all future development to [Gymnasium](https://github.com/Farama-Foundation/Gymnasium), a drop in replacement for Gym (import gymnasium as gym), and Gym will not be receiving any future updates. Please switch over to Gymnasium as soon as you're able to do so. If you'd like to read more about the story behind this switch, please check out [this blog post](https://farama.org/Announcing-The-Farama-Foundation).\n",
        "\n",
        "とのことで，2023年6月現在，Gym の開発は既に停止している（最終リリースは 2022年10月5日）。\n",
        "\n",
        "今後の開発は開発体制と名前を変えて Gymnasium として継続される。利用方法もほぼ同じで，`import gym` の代わりに `import gymnasium as gym` とすれば，古いコードがほぼそのまま動く（実際にはいくつか調整が必要な場合が多い）。\n",
        "\n",
        "変更点などについては[この記事](https://zenn.dev/ymd_h/scraps/6e6b03b4ebd5ce)が参考になる。"
      ],
      "metadata": {
        "id": "dZI1CkJ3FOUr"
      }
    },
    {
      "cell_type": "markdown",
      "source": [
        "#### 8.1.1 OpenAI Gym の基礎知識"
      ],
      "metadata": {
        "id": "4MPoWdKADuZL"
      }
    },
    {
      "cell_type": "code",
      "source": [
        "!pip install gymnasium"
      ],
      "metadata": {
        "colab": {
          "base_uri": "https://localhost:8080/"
        },
        "id": "YI6JLiAuGlWV",
        "outputId": "4d5571cc-30af-499e-ec7f-d705b2acb7e4"
      },
      "execution_count": null,
      "outputs": [
        {
          "output_type": "stream",
          "name": "stdout",
          "text": [
            "Looking in indexes: https://pypi.org/simple, https://us-python.pkg.dev/colab-wheels/public/simple/\n",
            "Collecting gymnasium\n",
            "  Downloading gymnasium-0.28.1-py3-none-any.whl (925 kB)\n",
            "\u001b[2K     \u001b[90m━━━━━━━━━━━━━━━━━━━━━━━━━━━━━━━━━━━━━━\u001b[0m \u001b[32m925.5/925.5 kB\u001b[0m \u001b[31m19.0 MB/s\u001b[0m eta \u001b[36m0:00:00\u001b[0m\n",
            "\u001b[?25hRequirement already satisfied: numpy>=1.21.0 in /usr/local/lib/python3.10/dist-packages (from gymnasium) (1.22.4)\n",
            "Collecting jax-jumpy>=1.0.0 (from gymnasium)\n",
            "  Downloading jax_jumpy-1.0.0-py3-none-any.whl (20 kB)\n",
            "Requirement already satisfied: cloudpickle>=1.2.0 in /usr/local/lib/python3.10/dist-packages (from gymnasium) (2.2.1)\n",
            "Requirement already satisfied: typing-extensions>=4.3.0 in /usr/local/lib/python3.10/dist-packages (from gymnasium) (4.5.0)\n",
            "Collecting farama-notifications>=0.0.1 (from gymnasium)\n",
            "  Downloading Farama_Notifications-0.0.4-py3-none-any.whl (2.5 kB)\n",
            "Installing collected packages: farama-notifications, jax-jumpy, gymnasium\n",
            "Successfully installed farama-notifications-0.0.4 gymnasium-0.28.1 jax-jumpy-1.0.0\n"
          ]
        }
      ]
    },
    {
      "cell_type": "code",
      "source": [
        "import gymnasium as gym"
      ],
      "metadata": {
        "id": "HvlS-WUQGii7"
      },
      "execution_count": null,
      "outputs": []
    },
    {
      "cell_type": "code",
      "source": [
        "env = gym.make('CartPole-v0')"
      ],
      "metadata": {
        "colab": {
          "base_uri": "https://localhost:8080/"
        },
        "id": "UyJBwZT3GtlB",
        "outputId": "da1e3649-6709-453b-bbe4-f07fc3535cda"
      },
      "execution_count": null,
      "outputs": [
        {
          "output_type": "stream",
          "name": "stderr",
          "text": [
            "/usr/local/lib/python3.10/dist-packages/gymnasium/envs/registration.py:523: DeprecationWarning: \u001b[33mWARN: The environment CartPole-v0 is out of date. You should consider upgrading to version `v1`.\u001b[0m\n",
            "  logger.deprecation(\n"
          ]
        }
      ]
    },
    {
      "cell_type": "markdown",
      "source": [
        "CartPole のバージョン 0 を読み込むと，Deprecation Warning（非推奨の警告）が表示される。\n",
        "\n",
        "バージョン 1 を使うべきである。"
      ],
      "metadata": {
        "id": "sSsvcwOLG3AY"
      }
    },
    {
      "cell_type": "code",
      "source": [
        "env = gym.make('CartPole-v1')"
      ],
      "metadata": {
        "id": "bDFhKqzpHLs9"
      },
      "execution_count": null,
      "outputs": []
    },
    {
      "cell_type": "code",
      "source": [
        "## Gym では\n",
        "#state = env.reset()\n",
        "#print(state)  # 初期状態\n",
        "\n",
        "## Gymnasium では\n",
        "observation, info = env.reset()\n",
        "print(observation)  # 初期状態"
      ],
      "metadata": {
        "colab": {
          "base_uri": "https://localhost:8080/"
        },
        "id": "V9T2yga6HPQc",
        "outputId": "31426e1f-da82-4e33-8843-940d4608087a"
      },
      "execution_count": null,
      "outputs": [
        {
          "output_type": "stream",
          "name": "stdout",
          "text": [
            "[ 0.02417546  0.03626963 -0.00738724  0.03899148]\n"
          ]
        }
      ]
    },
    {
      "cell_type": "code",
      "source": [
        "action_space = env.action_space\n",
        "print(action_space)  # 行動の次元数"
      ],
      "metadata": {
        "colab": {
          "base_uri": "https://localhost:8080/"
        },
        "id": "XKCkVccFHPTf",
        "outputId": "139a05b8-fb58-4a4c-c72c-979ffb289adb"
      },
      "execution_count": null,
      "outputs": [
        {
          "output_type": "stream",
          "name": "stdout",
          "text": [
            "Discrete(2)\n"
          ]
        }
      ]
    },
    {
      "cell_type": "markdown",
      "source": [
        "「状態」は 4 種類，「行動」は 2 種類ある。\n",
        "\n",
        "状態や行動の意味については，CartPole のドキュメントに記載されている。\n",
        "\n",
        "https://gymnasium.farama.org/environments/classic_control/cart_pole/\n",
        "\n",
        "- 行動（action）\n",
        "  - 0: カートを左に押す\n",
        "  - 1: カートを右に押す\n",
        "- 状態（state）あるいは観測（observation）\n",
        "  - 0: カートの位置（$-4.8$ から $+4.8$）\n",
        "  - 1: カートの速度（$-\\infty$ から $\\infty$）\n",
        "  - 2: 棒の角度（$-0.418$ rad から $+0.418$ rad）\n",
        "  - 3: 棒の角速度（$-\\infty$ から $\\infty$）"
      ],
      "metadata": {
        "id": "ZDlV7QoyH4oB"
      }
    },
    {
      "cell_type": "markdown",
      "source": [
        "以下は，ある状態においてある行動（action=0）をおこなったときに環境からの報酬・観測（次の状態）などを取得する例である。\n",
        "gym 用のコードとは少し異なる。"
      ],
      "metadata": {
        "id": "6mMpRTV2JknM"
      }
    },
    {
      "cell_type": "code",
      "source": [
        "action = 0  # or 1\n",
        "#next_state, reward, done, info = env.step(action)\n",
        "observation, reward, terminated, truncated, info = env.step(action)\n",
        "print(f'{observation = }')\n",
        "print(f'{reward      = }')\n",
        "print(f'{terminated  = }')\n",
        "print(f'{truncated   = }')\n",
        "print(f'{info        = }')"
      ],
      "metadata": {
        "colab": {
          "base_uri": "https://localhost:8080/"
        },
        "id": "TowzvpBsHPZ5",
        "outputId": "5e4a5762-937d-4b12-dc35-0155d85ff583"
      },
      "execution_count": null,
      "outputs": [
        {
          "output_type": "stream",
          "name": "stdout",
          "text": [
            "observation = array([ 0.02490085, -0.15874562, -0.00660741,  0.32933453], dtype=float32)\n",
            "reward      = 1.0\n",
            "terminated  = False\n",
            "truncated   = False\n",
            "info        = {}\n"
          ]
        }
      ]
    },
    {
      "cell_type": "markdown",
      "source": [
        "- observation（観測）: 次の状態\n",
        "- reward（報酬）: スカラ値であり，バランスが保たれている間は常に $1$ の報酬が得られる。\n",
        "- terminated（終了）: エピソードが終了したかどうかを表す真理値\n",
        "- truncated（打ち切り）: エピソードが途中で打ち切られたかどうかを表す真理値\n",
        "- info: デバッグ用の有益な情報。"
      ],
      "metadata": {
        "id": "fsbYs9OmKcZ2"
      }
    },
    {
      "cell_type": "markdown",
      "source": [
        "#### 8.1.2 ランダムなエージェント"
      ],
      "metadata": {
        "id": "sCkYtm-3Dusp"
      }
    },
    {
      "cell_type": "code",
      "source": [
        "import gymnasium as gym\n",
        "import matplotlib.pyplot as plt\n",
        "import numpy as np\n",
        "\n",
        "env = gym.make('CartPole-v1', render_mode='rgb_array')\n",
        "state = env.reset()\n",
        "terminated = False\n",
        "truncated = False\n",
        "\n",
        "while not terminated and not truncated:\n",
        "    rgb_data = env.render()\n",
        "    action = np.random.choice([0, 1])\n",
        "    observation, reward, terminated, truncated, info = env.step(action)\n",
        "env.close()"
      ],
      "metadata": {
        "id": "dY9BBYLvHgZc"
      },
      "execution_count": null,
      "outputs": []
    },
    {
      "cell_type": "code",
      "source": [
        "plt.imshow(rgb_data)\n",
        "plt.show()"
      ],
      "metadata": {
        "colab": {
          "base_uri": "https://localhost:8080/",
          "height": 396
        },
        "id": "GS0R11DuHgcZ",
        "outputId": "10bda024-c207-46c6-ca9b-fa2d22d02f21"
      },
      "execution_count": null,
      "outputs": [
        {
          "output_type": "display_data",
          "data": {
            "text/plain": [
              "<Figure size 640x480 with 1 Axes>"
            ],
            "image/png": "[encoded data removed]"
          },
          "metadata": {}
        }
      ]
    },
    {
      "cell_type": "markdown",
      "source": [
        "ローカル環境であれば，`gym.make()` の引数において `render_mode='human'` のように指定することでウィンドウが開き，実際にカートと棒が動く様子を見ることができる。\n",
        "\n",
        "Colab は，自身の PC に新たなウィンドウを開く機能を持たないないため，カートの動きを表示させるには工夫が必要である。\n",
        "\n",
        "たとえば，[renderlab](https://github.com/ryanrudes/renderlab) を用いる方法が有効である。\n",
        "\n",
        "ちなみに，かつては Gym の Monitor や RecordVideo を用いる方法もあった（たとえば[この記事](https://zenn.dev/ymd_h/articles/36eff0de1ee5ed)を参照）が，いずれも Gymnasium では対応していないようである。"
      ],
      "metadata": {
        "id": "pjwiNO92kc1v"
      }
    },
    {
      "cell_type": "code",
      "source": [
        "!pip install renderlab"
      ],
      "metadata": {
        "colab": {
          "base_uri": "https://localhost:8080/"
        },
        "id": "cwPx0NvaHgfD",
        "outputId": "64b2238e-18e7-4131-db3e-7ff0d9cc8f58"
      },
      "execution_count": null,
      "outputs": [
        {
          "output_type": "stream",
          "name": "stdout",
          "text": [
            "Looking in indexes: https://pypi.org/simple, https://us-python.pkg.dev/colab-wheels/public/simple/\n",
            "Collecting renderlab\n",
            "  Downloading renderlab-0.1.20230421184216-py3-none-any.whl (4.0 kB)\n",
            "Requirement already satisfied: moviepy in /usr/local/lib/python3.10/dist-packages (from renderlab) (1.0.3)\n",
            "Requirement already satisfied: gymnasium in /usr/local/lib/python3.10/dist-packages (from renderlab) (0.28.1)\n",
            "Requirement already satisfied: numpy>=1.21.0 in /usr/local/lib/python3.10/dist-packages (from gymnasium->renderlab) (1.22.4)\n",
            "Requirement already satisfied: jax-jumpy>=1.0.0 in /usr/local/lib/python3.10/dist-packages (from gymnasium->renderlab) (1.0.0)\n",
            "Requirement already satisfied: cloudpickle>=1.2.0 in /usr/local/lib/python3.10/dist-packages (from gymnasium->renderlab) (2.2.1)\n",
            "Requirement already satisfied: typing-extensions>=4.3.0 in /usr/local/lib/python3.10/dist-packages (from gymnasium->renderlab) (4.5.0)\n",
            "Requirement already satisfied: farama-notifications>=0.0.1 in /usr/local/lib/python3.10/dist-packages (from gymnasium->renderlab) (0.0.4)\n",
            "Requirement already satisfied: decorator<5.0,>=4.0.2 in /usr/local/lib/python3.10/dist-packages (from moviepy->renderlab) (4.4.2)\n",
            "Requirement already satisfied: tqdm<5.0,>=4.11.2 in /usr/local/lib/python3.10/dist-packages (from moviepy->renderlab) (4.65.0)\n",
            "Requirement already satisfied: requests<3.0,>=2.8.1 in /usr/local/lib/python3.10/dist-packages (from moviepy->renderlab) (2.27.1)\n",
            "Requirement already satisfied: proglog<=1.0.0 in /usr/local/lib/python3.10/dist-packages (from moviepy->renderlab) (0.1.10)\n",
            "Requirement already satisfied: imageio<3.0,>=2.5 in /usr/local/lib/python3.10/dist-packages (from moviepy->renderlab) (2.25.1)\n",
            "Requirement already satisfied: imageio-ffmpeg>=0.2.0 in /usr/local/lib/python3.10/dist-packages (from moviepy->renderlab) (0.4.8)\n",
            "Requirement already satisfied: pillow>=8.3.2 in /usr/local/lib/python3.10/dist-packages (from imageio<3.0,>=2.5->moviepy->renderlab) (8.4.0)\n",
            "Requirement already satisfied: urllib3<1.27,>=1.21.1 in /usr/local/lib/python3.10/dist-packages (from requests<3.0,>=2.8.1->moviepy->renderlab) (1.26.15)\n",
            "Requirement already satisfied: certifi>=2017.4.17 in /usr/local/lib/python3.10/dist-packages (from requests<3.0,>=2.8.1->moviepy->renderlab) (2022.12.7)\n",
            "Requirement already satisfied: charset-normalizer~=2.0.0 in /usr/local/lib/python3.10/dist-packages (from requests<3.0,>=2.8.1->moviepy->renderlab) (2.0.12)\n",
            "Requirement already satisfied: idna<4,>=2.5 in /usr/local/lib/python3.10/dist-packages (from requests<3.0,>=2.8.1->moviepy->renderlab) (3.4)\n",
            "Installing collected packages: renderlab\n",
            "Successfully installed renderlab-0.1.20230421184216\n"
          ]
        }
      ]
    },
    {
      "cell_type": "code",
      "source": [
        "import gymnasium as gym\n",
        "import renderlab as rl\n",
        "\n",
        "env = gym.make('CartPole-v1', render_mode = 'rgb_array')\n",
        "env = rl.RenderFrame(env, './output')\n",
        "\n",
        "observation, info = env.reset()\n",
        "terminated = False\n",
        "truncated = False\n",
        "\n",
        "while not terminated and not truncated:\n",
        "  action = env.action_space.sample()  # np.random.choice() と同様\n",
        "  observation, reward, terminated, truncated, info = env.step(action)\n",
        "\n",
        "env.play()\n",
        "env.close()"
      ],
      "metadata": {
        "colab": {
          "base_uri": "https://localhost:8080/",
          "height": 584
        },
        "id": "SWnniayvkBgz",
        "outputId": "3949ae9f-15ef-42ee-afb6-0f2671daf786"
      },
      "execution_count": null,
      "outputs": [
        {
          "output_type": "stream",
          "name": "stdout",
          "text": [
            "Moviepy - Building video temp-{start}.mp4.\n",
            "Moviepy - Writing video temp-{start}.mp4\n",
            "\n"
          ]
        },
        {
          "output_type": "stream",
          "name": "stderr",
          "text": [
            "t:  57%|█████▋    | 17/30 [00:00<00:00, 169.34it/s, now=None]WARNING:py.warnings:/usr/local/lib/python3.10/dist-packages/moviepy/video/io/ffmpeg_reader.py:123: UserWarning: Warning: in file ./output/1687409691.3225658.mp4, 720000 bytes wanted but 0 bytes read,at frame 29/30, at time 0.97/0.97 sec. Using the last valid frame instead.\n",
            "  warnings.warn(\"Warning: in file %s, \"%(self.filename)+\n",
            "\n"
          ]
        },
        {
          "output_type": "stream",
          "name": "stdout",
          "text": [
            "Moviepy - Done !\n",
            "Moviepy - video ready temp-{start}.mp4\n"
          ]
        },
        {
          "output_type": "display_data",
          "data": {
            "text/plain": [
              "<IPython.core.display.Video object>"
            ],
            "text/html": [
              "<video controls  >\n",
              " <source src=\"data:video/mp4;base64,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\" type=\"video/mp4\">\n",
              " Your browser does not support the video tag.\n",
              " </video>"
            ]
          },
          "metadata": {}
        }
      ]
    },
    {
      "cell_type": "markdown",
      "source": [
        "renderlab では [MoviePy](https://zulko.github.io/moviepy/) を用いて動画を扱っており，そのようなメッセージが表示される。このメッセージは邪魔なので消したい。\n",
        "\n",
        "https://github.com/ryanrudes/renderlab/blob/main/renderlab/render_frame.py\n",
        "\n",
        "`verbose=False` で良さそうだが実は deprecated で，`logger=None` としなければならないらしい。\n",
        "\n",
        "https://zulko.github.io/moviepy/_modules/moviepy/video/VideoClip.html"
      ],
      "metadata": {
        "id": "YiyBNFNEn_XX"
      }
    },
    {
      "cell_type": "markdown",
      "source": [
        "#### 【補足】状態と観測について\n",
        "\n",
        "- 状態（state）: 環境に関しての「完全な記述（情報）」\n",
        "- 観測（observation）: 状態の「部分的な記述」（例：ポーカーや麻雀など）"
      ],
      "metadata": {
        "id": "TBWJEPdYpZly"
      }
    },
    {
      "cell_type": "markdown",
      "source": [
        "### 8.2 DQN のコア技術"
      ],
      "metadata": {
        "id": "H70myJA-Dipi"
      }
    },
    {
      "cell_type": "markdown",
      "source": [
        "Q 学習は推定値を使って推定値を更新する（ブートストラッピング）。そのため不安定になりやすい。\n",
        "\n",
        "ニューラルネットワークも表現力が高いことが裏目に出て，過学習（overfitting）によって不安定になりやすい。\n",
        "\n",
        "DQN は Q 学習とニューラルネットワークを組み合わせる手法であるため，さらに不安定になりやすい。\n",
        "\n",
        "そこで，ニューラルネットワークの学習を安定させるために\n",
        "\n",
        "- 経験再生（experience replay）\n",
        "- ターゲットネットワーク（target network）\n",
        "\n",
        "を用いる。"
      ],
      "metadata": {
        "id": "kmiMY3pYp4vu"
      }
    },
    {
      "cell_type": "markdown",
      "source": [
        "#### 8.2.1 経験再生（Experience Replay）"
      ],
      "metadata": {
        "id": "UKC0kBdWD4y-"
      }
    },
    {
      "cell_type": "markdown",
      "source": [
        "ニューラルネットワークを教師あり学習に適用する例は多数みられるが，強化学習に適用するのは難しく，2013年の DQN まではほとん\n",
        "ど例が見られなかった。\n",
        "\n",
        "なぜニューラルネットワークを強化学習（特に Q 学習）に適用するのは難しいのか？\n",
        "\n",
        "- 教師あり学習: 訓練用データセットから，ランダムにデータを抽出してミニバッチを作成し，ミニバッチ単位でパラメータの更新をおこなう。ミニバッチに偏りがないように，ランダムに選ぶことが望ましい。\n",
        "- Q 学習: 経験データは時刻 $t$ ごとに $E_1, E_2, \\cdots, E_t, \\cdots$ のように得られる。近接するデータはランダムでなく，強い相関がある。\n",
        "\n",
        "この違いを埋めるテクニックが経験再生である。\n",
        "\n",
        "**経験再生** では，まずエージェントが経験したデータを一度バッファに保存し，Q 関数を更新する際にはバッファから経験データをランダムに取り出す。\n",
        "\n",
        "経験再生は Q 学習に限らず他の強化学習アルゴリズムにも適用できるが，方策オフ型に限られる（方策オン型は，現時点の方策から得たデータだけしか使えないため）。"
      ],
      "metadata": {
        "id": "Q8DzqZImqp6L"
      }
    },
    {
      "cell_type": "markdown",
      "source": [
        "#### 8.2.2 経験再生の実装"
      ],
      "metadata": {
        "id": "z1SIzNmTD4-7"
      }
    },
    {
      "cell_type": "markdown",
      "source": [
        "経験再生のバッファは，適当なサイズを定め，FIFO 形式でデータを格納する。"
      ],
      "metadata": {
        "id": "cALAIuOos63U"
      }
    },
    {
      "cell_type": "code",
      "source": [
        "from collections import deque\n",
        "import random\n",
        "import numpy as np\n",
        "\n",
        "\n",
        "class ReplayBuffer:\n",
        "    def __init__(self, buffer_size: int, batch_size: int):\n",
        "        \"\"\"\n",
        "        buffer_size: バッファのサイズ\n",
        "        batch_size: ミニバッチのサイズ\n",
        "        \"\"\"\n",
        "        self.buffer = deque(maxlen=buffer_size)\n",
        "        self.batch_size = batch_size\n",
        "\n",
        "    def add(self, state, action, reward, next_state, done):\n",
        "        data = (state, action, reward, next_state, done)\n",
        "        self.buffer.append(data)\n",
        "\n",
        "    def __len__(self):\n",
        "        return len(self.buffer)\n",
        "\n",
        "    def get_batch(self):\n",
        "        data = random.sample(self.buffer, self.batch_size)\n",
        "\n",
        "        state = np.stack([x[0] for x in data])\n",
        "        action = np.array([x[1] for x in data])\n",
        "        reward = np.array([x[2] for x in data])\n",
        "        next_state = np.stack([x[3] for x in data])\n",
        "        done = np.array([x[4] for x in data]).astype(np.int32)\n",
        "        return state, action, reward, next_state, done"
      ],
      "metadata": {
        "id": "uhv24wXHkBpI"
      },
      "execution_count": null,
      "outputs": []
    },
    {
      "cell_type": "code",
      "source": [
        "# 上のコードでは np.stack と np.array を使い分けているが，結果は同じになる気がする\n",
        "\n",
        "for shape in [(10,), (10, 10), (10, 10, 10)]:\n",
        "    data = np.random.rand(*shape)\n",
        "    data = list(data)\n",
        "    x1 = np.stack(data)\n",
        "    x2 = np.array(data)\n",
        "    print(shape, x1.shape == x2.shape)"
      ],
      "metadata": {
        "colab": {
          "base_uri": "https://localhost:8080/"
        },
        "id": "UxJ16_yEtREK",
        "outputId": "4ee2fe17-9104-4d24-ac55-7ed19df4b746"
      },
      "execution_count": null,
      "outputs": [
        {
          "output_type": "stream",
          "name": "stdout",
          "text": [
            "(10,) True\n",
            "(10, 10) True\n",
            "(10, 10, 10) True\n"
          ]
        }
      ]
    },
    {
      "cell_type": "code",
      "source": [
        "# 上のコードは似たような list comprehension をたくさん使って実装している。\n",
        "# np.Generator.choice() で同様の事ができそうである。\n",
        "# しかし，state や action の次元や形状が統一されていないため，一般にはそれができない。\n",
        "#\n",
        "# ちなみに，np.Generator.choice() と似たようなメソッドである np.random.choice() は 1-D array にしか対応しておらず，今回のように 2-D （あるいはそれ以上）には適用できない。\n",
        "# さらに言えば，np.random.choice() は古い方法であるから，保守性の高いコードを書く目的があるのであれば np.Generator.choice() を使うべき，らしい。"
      ],
      "metadata": {
        "id": "C91JgqoGtRHE"
      },
      "execution_count": null,
      "outputs": []
    },
    {
      "cell_type": "code",
      "source": [
        "import gymnasium as gym\n",
        "import renderlab as rl\n",
        "\n",
        "env = gym.make('CartPole-v1', render_mode = 'rgb_array')\n",
        "env = rl.RenderFrame(env, './output')\n",
        "\n",
        "replay_buffer = ReplayBuffer(buffer_size=10000, batch_size=32)\n",
        "\n",
        "for episode in range(10):\n",
        "    observation, info = env.reset()\n",
        "    done = False\n",
        "\n",
        "    while not done:\n",
        "        action = 0  # 常に左へ動かす\n",
        "        observation, reward, terminated, truncated, info = env.step(action)\n",
        "        next_state = observation\n",
        "        done = terminated or truncated\n",
        "        replay_buffer.add(state, action, reward, next_state, done)\n",
        "        state = next_state\n",
        "\n",
        "state, action, reward, next_state, done = replay_buffer.get_batch()\n",
        "\n",
        "print(state.shape)  # (32, 4)\n",
        "print(action.shape)  # (32,)\n",
        "print(reward.shape)  # (32,)\n",
        "print(next_state.shape)  # (32, 4)\n",
        "print(done.shape)  # (32,)"
      ],
      "metadata": {
        "colab": {
          "base_uri": "https://localhost:8080/"
        },
        "id": "NTj5au10HCO7",
        "outputId": "7b54fc6b-8cb0-4a71-bca0-842c3ba75315"
      },
      "execution_count": null,
      "outputs": [
        {
          "output_type": "stream",
          "name": "stdout",
          "text": [
            "(32, 4)\n",
            "(32,)\n",
            "(32,)\n",
            "(32, 4)\n",
            "(32,)\n"
          ]
        }
      ]
    },
    {
      "cell_type": "markdown",
      "source": [
        "#### 8.2.3 ターゲットネットワーク（Target Network）"
      ],
      "metadata": {
        "id": "RknhpeEwEBkN"
      }
    },
    {
      "cell_type": "markdown",
      "source": [
        "- 教師あり学習では正解ラベルが変化することはない。例えば，画像の数字認識において，最初はある画像の正解ラベルが「４」だったときに同じ画像の正解ラベルが途中で「７」に変化することはあり得ない。\n",
        "- Q 学習において正解ラベルといえるものは TD ターゲット $R_t+\\gamma \\max_a Q(S_{t+1},a)$ であるが，これは訓練途中における推定値であるため，訓練が進むことによって TD ターゲットの値が変化する可能性がある。\n",
        "\n",
        "この違いを埋めるためにターゲットネットワークを用いて TD ターゲットを固定する。"
      ],
      "metadata": {
        "id": "q5rW0-pHIzgd"
      }
    },
    {
      "cell_type": "markdown",
      "source": [
        "ターゲットネットワークでは，\n",
        "\n",
        "- まず Q 関数のオリジナルネットワークを用意する（これを `qnet` とする）\n",
        "- 次に同じ構造のネットワークをもう１つ用意する（これを `qnet_target` とする）\n",
        "- `qnet` は通常の Q 学習によって更新する\n",
        "- `qnet_target` は常に更新するのではなく，定期的に（たとえば 100 エピソードごとに） `qnet` の重みと同期する"
      ],
      "metadata": {
        "id": "qevNdmeoJt4Y"
      }
    },
    {
      "cell_type": "markdown",
      "source": [
        "#### 8.2.4 ターゲットネットワークの実装"
      ],
      "metadata": {
        "id": "_pFBNLx5EH9n"
      }
    },
    {
      "cell_type": "code",
      "source": [
        "!pip install dezero"
      ],
      "metadata": {
        "colab": {
          "base_uri": "https://localhost:8080/"
        },
        "id": "nT7HopoYKzoW",
        "outputId": "7b6e0682-26bc-4525-de39-966316055faf"
      },
      "execution_count": null,
      "outputs": [
        {
          "output_type": "stream",
          "name": "stdout",
          "text": [
            "Looking in indexes: https://pypi.org/simple, https://us-python.pkg.dev/colab-wheels/public/simple/\n",
            "Collecting dezero\n",
            "  Downloading dezero-0.0.13-py3-none-any.whl (28 kB)\n",
            "Requirement already satisfied: numpy in /usr/local/lib/python3.10/dist-packages (from dezero) (1.22.4)\n",
            "Installing collected packages: dezero\n",
            "Successfully installed dezero-0.0.13\n"
          ]
        }
      ]
    },
    {
      "cell_type": "code",
      "source": [
        "import copy\n",
        "from dezero import Model\n",
        "from dezero import optimizers\n",
        "import dezero.functions as F\n",
        "import dezero.layers as L"
      ],
      "metadata": {
        "id": "D9wLqcBzKuNV"
      },
      "execution_count": null,
      "outputs": []
    },
    {
      "cell_type": "code",
      "source": [
        "# 通常の Q ネットワーク\n",
        "class QNet(Model):\n",
        "    def __init__(self, action_size):\n",
        "        super().__init__()\n",
        "        self.l1 = L.Linear(128)\n",
        "        self.l2 = L.Linear(128)\n",
        "        self.l3 = L.Linear(action_size)\n",
        "\n",
        "    def forward(self, x):\n",
        "        x = F.relu(self.l1(x))\n",
        "        x = F.relu(self.l2(x))\n",
        "        x = self.l3(x)\n",
        "        return x"
      ],
      "metadata": {
        "id": "6gBkdN5vK8La"
      },
      "execution_count": null,
      "outputs": []
    },
    {
      "cell_type": "code",
      "source": [
        "class DQNAgent:\n",
        "    \"\"\"\n",
        "    ２つの Q ネットワーク qnet, qnet_target を持つエージェント\n",
        "    \"\"\"\n",
        "\n",
        "    def __init__(self):\n",
        "        self.gamma = 0.98\n",
        "        self.lr = 0.0005\n",
        "        self.epsilon = 0.1\n",
        "        self.buffer_size = 10000\n",
        "        self.batch_size = 32\n",
        "        self.action_size = 2\n",
        "\n",
        "        # 経験再生のためのバッファ\n",
        "        self.replay_buffer = ReplayBuffer(self.buffer_size, self.batch_size)\n",
        "\n",
        "        # （通常の）Q ネットワーク\n",
        "        self.qnet = QNet(self.action_size)\n",
        "\n",
        "        # ターゲット Q ネットワーク\n",
        "        self.qnet_target = QNet(self.action_size)\n",
        "\n",
        "        # オプティマイザは Adam\n",
        "        self.optimizer = optimizers.Adam(self.lr)\n",
        "\n",
        "        # オプティマイザによって更新されるのは qnet のみ\n",
        "        # （qnet_target は更新せず，他の方法で定期的に更新する）\n",
        "        self.optimizer.setup(self.qnet)  # qnet を設定\n",
        "\n",
        "    def sync_qnet(self):\n",
        "        \"\"\"\n",
        "        2 つのニューラルネットワークを同期する\n",
        "        \"\"\"\n",
        "        # deepcopy によって「深いコピー」をおこない完全な複製を作る\n",
        "        self.qnet_target = copy.deepcopy(self.qnet)\n",
        "\n",
        "    def get_action(self, state):\n",
        "        \"\"\"\n",
        "        ある状態 state において，現在の方策にしたがって行動を 1 つ選択する\n",
        "        \"\"\"\n",
        "        # 探索（exploration）\n",
        "        if np.random.rand() < self.epsilon:\n",
        "            return np.random.choice(self.action_size)\n",
        "        # 活用（exploitation）\n",
        "        else:\n",
        "            # バッチの次元を追加\n",
        "            # 例: shape (5,) が (1, 5) になる\n",
        "            state = state[np.newaxis, :]\n",
        "\n",
        "            # ある状態における Q 関数（行動価値関数）を求める\n",
        "            qs = self.qnet(state)\n",
        "\n",
        "            # dezero 変数から単純な数値ベクトルを取得し，\n",
        "            # そのうち最大値の添字を求める\n",
        "            return qs.data.argmax()"
      ],
      "metadata": {
        "id": "PBhThOwmLAMG"
      },
      "execution_count": null,
      "outputs": []
    },
    {
      "cell_type": "code",
      "source": [
        "state = np.random.rand(5)\n",
        "print(state)\n",
        "print(state.shape)\n",
        "state = state[np.newaxis, :]\n",
        "print(state)\n",
        "print(state.shape)"
      ],
      "metadata": {
        "colab": {
          "base_uri": "https://localhost:8080/"
        },
        "id": "4g5upCJKLAOs",
        "outputId": "37f96e4f-d852-42e7-8b03-ccb31022fc7b"
      },
      "execution_count": null,
      "outputs": [
        {
          "output_type": "stream",
          "name": "stdout",
          "text": [
            "[0.5773095  0.51896126 0.85317777 0.86952685 0.51538202]\n",
            "(5,)\n",
            "[[0.5773095  0.51896126 0.85317777 0.86952685 0.51538202]]\n",
            "(1, 5)\n"
          ]
        }
      ]
    },
    {
      "cell_type": "code",
      "source": [
        "qnet = QNet(2)\n",
        "state = np.random.rand(4)\n",
        "state = state[np.newaxis, :]\n",
        "qs = qnet(state)\n",
        "qs"
      ],
      "metadata": {
        "colab": {
          "base_uri": "https://localhost:8080/"
        },
        "id": "Vdtx_HAgOM-z",
        "outputId": "01384f40-3af8-4bd9-da46-c47afe54589b"
      },
      "execution_count": null,
      "outputs": [
        {
          "output_type": "execute_result",
          "data": {
            "text/plain": [
              "variable([[-0.38438189  0.30894685]])"
            ]
          },
          "metadata": {},
          "execution_count": 21
        }
      ]
    },
    {
      "cell_type": "code",
      "source": [
        "type(qs)"
      ],
      "metadata": {
        "colab": {
          "base_uri": "https://localhost:8080/"
        },
        "id": "ibvbqU2YShES",
        "outputId": "8dd42e7c-2685-410b-d306-feb74d555491"
      },
      "execution_count": null,
      "outputs": [
        {
          "output_type": "execute_result",
          "data": {
            "text/plain": [
              "dezero.core.Variable"
            ]
          },
          "metadata": {},
          "execution_count": 22
        }
      ]
    },
    {
      "cell_type": "code",
      "source": [
        "qs.data"
      ],
      "metadata": {
        "colab": {
          "base_uri": "https://localhost:8080/"
        },
        "id": "N2F7MaknSwhp",
        "outputId": "e1e19978-a4e4-468c-a707-9bc9ae12457b"
      },
      "execution_count": null,
      "outputs": [
        {
          "output_type": "execute_result",
          "data": {
            "text/plain": [
              "array([[-0.38438189,  0.30894685]])"
            ]
          },
          "metadata": {},
          "execution_count": 23
        }
      ]
    },
    {
      "cell_type": "code",
      "source": [
        "qs.data.argmax()"
      ],
      "metadata": {
        "colab": {
          "base_uri": "https://localhost:8080/"
        },
        "id": "z6WbVlnKONDs",
        "outputId": "8193fb61-a22c-4a04-e828-1b0f1b6392ec"
      },
      "execution_count": null,
      "outputs": [
        {
          "output_type": "execute_result",
          "data": {
            "text/plain": [
              "1"
            ]
          },
          "metadata": {},
          "execution_count": 24
        }
      ]
    },
    {
      "cell_type": "markdown",
      "source": [
        "次に update() メソッドについて"
      ],
      "metadata": {
        "id": "U1AZQyaBXRnH"
      }
    },
    {
      "cell_type": "code",
      "source": [
        "class DQNAgent:\n",
        "    def __init__(self):\n",
        "        self.gamma = 0.98\n",
        "        self.lr = 0.0005\n",
        "        self.epsilon = 0.1\n",
        "        self.buffer_size = 10000\n",
        "        self.batch_size = 32\n",
        "        self.action_size = 2\n",
        "\n",
        "        self.replay_buffer = ReplayBuffer(self.buffer_size, self.batch_size)\n",
        "        self.qnet = QNet(self.action_size)\n",
        "        self.qnet_target = QNet(self.action_size)\n",
        "        self.optimizer = optimizers.Adam(self.lr)\n",
        "        self.optimizer.setup(self.qnet)  # qnet を設定\n",
        "\n",
        "    def sync_qnet(self):\n",
        "        self.qnet_target = copy.deepcopy(self.qnet)\n",
        "\n",
        "    def get_action(self, state):\n",
        "        if np.random.rand() < self.epsilon:\n",
        "            return np.random.choice(self.action_size)\n",
        "        else:\n",
        "            state = state[np.newaxis, :]\n",
        "            qs = self.qnet(state)\n",
        "            return qs.data.argmax()\n",
        "\n",
        "    # 追加\n",
        "    def update(self, state, action, reward, next_state, done):\n",
        "        \"\"\"\n",
        "        重みパラメータを更新する\n",
        "        \"\"\"\n",
        "        # 経験データをバッファに追加する\n",
        "        self.replay_buffer.add(state, action, reward, next_state, done)\n",
        "\n",
        "        # 経験データの数がミニバッチサイズに満たなければ何も更新せずに続ける\n",
        "        if len(self.replay_buffer) < self.batch_size:\n",
        "            return\n",
        "\n",
        "        # ミニバッチを取り出す\n",
        "        state, action, reward, next_state, done = self.replay_buffer.get_batch()\n",
        "\n",
        "        # 状態は shape=(4,) だが，ここの state はミニバッチ化されているので\n",
        "        # shape=(32, 4) となる（ミニバッチサイズが 32 の場合）。\n",
        "        # qnet の forward によって各行動についての Q 関数の値を求める。\n",
        "        # 戻り値 qs の shape は (32, 2) となる。\n",
        "        # 2 は行動サイズ。\n",
        "        qs = self.qnet(state)\n",
        "\n",
        "        # action は行動 (0/1) がミニバッチ化されたもので，\n",
        "        # shape=(32,) となる。\n",
        "        # action に対応する Q 関数の値を求める。\n",
        "        # 戻り値のサイズは (32,) となる。\n",
        "        # ここは np.arange(self.batch_size) でなく : で良いのでは？\n",
        "        q = qs[np.arange(self.batch_size), action]\n",
        "\n",
        "        # 次の状態における Q 関数の値を求める。\n",
        "        # qnet でなく qnet_target を用いて計算する。\n",
        "        # 戻り値 next_qs の shape は (32, 2)\n",
        "        next_qs = self.qnet_target(next_state)\n",
        "\n",
        "        # ミニバッチの各データごとに最大値を求める。\n",
        "        # 戻り値 next_q の shape は (32,)\n",
        "        next_q = next_qs.max(axis=1)\n",
        "\n",
        "        # バックプロパゲーション（勾配計算）をおこなわない。\n",
        "        next_q.unchain()\n",
        "\n",
        "        # エピソードの終端なら reward そのものを，\n",
        "        # そうでなければ TD ターゲットを求める。\n",
        "        # 戻り値のサイズは next_q と同じ (32,)\n",
        "        target = reward + (1 - done) * self.gamma * next_q\n",
        "\n",
        "        # 損失関数（現在の Q 関数とターゲットとのズレ）を求める。\n",
        "        loss = F.mean_squared_error(q, target)\n",
        "\n",
        "        # いつものやつ\n",
        "        self.qnet.cleargrads()\n",
        "        loss.backward()\n",
        "        self.optimizer.update()  # 更新されるのは qnet のみ"
      ],
      "metadata": {
        "id": "A1XRO_JBShGx"
      },
      "execution_count": null,
      "outputs": []
    },
    {
      "cell_type": "markdown",
      "source": [
        "#### 8.2.5 DQN を動かす"
      ],
      "metadata": {
        "id": "VXt2KhXoEIDl"
      }
    },
    {
      "cell_type": "markdown",
      "source": [
        "300 エピソードの学習をおこなう。\n",
        "20 エピソードごとにターゲットネットワークの同期をおこなう。"
      ],
      "metadata": {
        "id": "bDcCW4MrZoRu"
      }
    },
    {
      "cell_type": "code",
      "source": [
        "import copy\n",
        "from collections import deque\n",
        "import random\n",
        "import matplotlib.pyplot as plt\n",
        "import numpy as np\n",
        "import gymnasium as gym\n",
        "import renderlab as rl\n",
        "from dezero import Model\n",
        "from dezero import optimizers\n",
        "import dezero.functions as F\n",
        "import dezero.layers as L\n",
        "\n",
        "\n",
        "class ReplayBuffer:\n",
        "    def __init__(self, buffer_size, batch_size):\n",
        "        self.buffer = deque(maxlen=buffer_size)\n",
        "        self.batch_size = batch_size\n",
        "\n",
        "    def add(self, state, action, reward, next_state, done):\n",
        "        data = (state, action, reward, next_state, done)\n",
        "        self.buffer.append(data)\n",
        "\n",
        "    def __len__(self):\n",
        "        return len(self.buffer)\n",
        "\n",
        "    def get_batch(self):\n",
        "        data = random.sample(self.buffer, self.batch_size)\n",
        "\n",
        "        state = np.stack([x[0] for x in data])\n",
        "        action = np.array([x[1] for x in data])\n",
        "        reward = np.array([x[2] for x in data])\n",
        "        next_state = np.stack([x[3] for x in data])\n",
        "        done = np.array([x[4] for x in data]).astype(np.int32)\n",
        "        return state, action, reward, next_state, done\n",
        "\n",
        "\n",
        "class QNet(Model):\n",
        "    def __init__(self, action_size):\n",
        "        super().__init__()\n",
        "        self.l1 = L.Linear(128)\n",
        "        self.l2 = L.Linear(128)\n",
        "        self.l3 = L.Linear(action_size)\n",
        "\n",
        "    def forward(self, x):\n",
        "        x = F.relu(self.l1(x))\n",
        "        x = F.relu(self.l2(x))\n",
        "        x = self.l3(x)\n",
        "        return x\n",
        "\n",
        "\n",
        "class DQNAgent:\n",
        "    def __init__(self):\n",
        "        self.gamma = 0.98\n",
        "        self.lr = 0.0005\n",
        "        self.epsilon = 0.1\n",
        "        self.buffer_size = 10000\n",
        "        self.batch_size = 32\n",
        "        self.action_size = 2\n",
        "\n",
        "        self.replay_buffer = ReplayBuffer(self.buffer_size, self.batch_size)\n",
        "        self.qnet = QNet(self.action_size)\n",
        "        self.qnet_target = QNet(self.action_size)\n",
        "        self.optimizer = optimizers.Adam(self.lr)\n",
        "        self.optimizer.setup(self.qnet)\n",
        "\n",
        "    def get_action(self, state):\n",
        "        if np.random.rand() < self.epsilon:\n",
        "            return np.random.choice(self.action_size)\n",
        "        else:\n",
        "            state = state[np.newaxis, :]\n",
        "            qs = self.qnet(state)\n",
        "            return qs.data.argmax()\n",
        "\n",
        "    def update(self, state, action, reward, next_state, done):\n",
        "        self.replay_buffer.add(state, action, reward, next_state, done)\n",
        "        if len(self.replay_buffer) < self.batch_size:\n",
        "            return\n",
        "\n",
        "        state, action, reward, next_state, done = self.replay_buffer.get_batch()\n",
        "        qs = self.qnet(state)\n",
        "        q = qs[np.arange(self.batch_size), action]\n",
        "\n",
        "        next_qs = self.qnet_target(next_state)\n",
        "        next_q = next_qs.max(axis=1)\n",
        "        next_q.unchain()\n",
        "        target = reward + (1 - done) * self.gamma * next_q\n",
        "\n",
        "        loss = F.mean_squared_error(q, target)\n",
        "\n",
        "        self.qnet.cleargrads()\n",
        "        loss.backward()\n",
        "        self.optimizer.update()\n",
        "\n",
        "    def sync_qnet(self):\n",
        "        self.qnet_target = copy.deepcopy(self.qnet)\n",
        "\n",
        "episodes = 300\n",
        "sync_interval = 20\n",
        "env = gym.make('CartPole-v1', render_mode = 'rgb_array')\n",
        "env = rl.RenderFrame(env, './output')\n",
        "agent = DQNAgent()\n",
        "reward_history = []\n",
        "\n",
        "for episode in range(episodes):\n",
        "    observation, info = env.reset()\n",
        "    state = observation\n",
        "    done = False\n",
        "    total_reward = 0\n",
        "\n",
        "    while not done:\n",
        "        action = agent.get_action(state)\n",
        "        observation, reward, terminated, truncated, info = env.step(action)\n",
        "        next_state = observation\n",
        "        done = terminated or truncated\n",
        "\n",
        "        agent.update(state, action, reward, next_state, done)\n",
        "        state = next_state\n",
        "        total_reward += reward\n",
        "\n",
        "    if episode % sync_interval == 0:\n",
        "        agent.sync_qnet()\n",
        "\n",
        "    reward_history.append(total_reward)\n",
        "    if episode % 10 == 0:\n",
        "        print(f'episode: {episode}, total reward: {total_reward}')\n",
        "\n",
        "\n",
        "# === Plot ===\n",
        "plt.xlabel('Episode')\n",
        "plt.ylabel('Total Reward')\n",
        "plt.plot(range(len(reward_history)), reward_history)\n",
        "plt.show()\n",
        "\n",
        "\n",
        "# === Play CartPole ===\n",
        "agent.epsilon = 0  # greedy policy\n",
        "observation, info = env.reset()\n",
        "state = observation\n",
        "done = False\n",
        "total_reward = 0\n",
        "\n",
        "while not done:\n",
        "    action = agent.get_action(state)\n",
        "    observation, reward, terminated, truncated, info = env.step(action)\n",
        "    next_state = observation\n",
        "    done = terminated or truncated\n",
        "\n",
        "    state = next_state\n",
        "    total_reward += reward\n",
        "    env.render()\n",
        "\n",
        "env.play()\n",
        "env.close()\n",
        "print('Total Reward:', total_reward)"
      ],
      "metadata": {
        "colab": {
          "base_uri": "https://localhost:8080/",
          "height": 1000
        },
        "id": "_xmpMmnrTLQH",
        "outputId": "a274453a-c7d4-4c8c-dde0-5fd22c1bb485"
      },
      "execution_count": null,
      "outputs": [
        {
          "output_type": "stream",
          "name": "stdout",
          "text": [
            "episode: 0, total reward: 12.0\n",
            "episode: 10, total reward: 20.0\n",
            "episode: 20, total reward: 9.0\n",
            "episode: 30, total reward: 9.0\n",
            "episode: 40, total reward: 8.0\n",
            "episode: 50, total reward: 9.0\n",
            "episode: 60, total reward: 10.0\n",
            "episode: 70, total reward: 10.0\n",
            "episode: 80, total reward: 10.0\n",
            "episode: 90, total reward: 9.0\n",
            "episode: 100, total reward: 9.0\n",
            "episode: 110, total reward: 64.0\n",
            "episode: 120, total reward: 94.0\n",
            "episode: 130, total reward: 168.0\n",
            "episode: 140, total reward: 248.0\n",
            "episode: 150, total reward: 173.0\n",
            "episode: 160, total reward: 232.0\n",
            "episode: 170, total reward: 207.0\n",
            "episode: 180, total reward: 111.0\n",
            "episode: 190, total reward: 161.0\n",
            "episode: 200, total reward: 161.0\n",
            "episode: 210, total reward: 242.0\n",
            "episode: 220, total reward: 303.0\n",
            "episode: 230, total reward: 293.0\n",
            "episode: 240, total reward: 202.0\n",
            "episode: 250, total reward: 229.0\n",
            "episode: 260, total reward: 397.0\n",
            "episode: 270, total reward: 254.0\n",
            "episode: 280, total reward: 500.0\n",
            "episode: 290, total reward: 301.0\n"
          ]
        },
        {
          "output_type": "display_data",
          "data": {
            "text/plain": [
              "<Figure size 640x480 with 1 Axes>"
            ],
            "image/png": "[encoded data removed]"
          },
          "metadata": {}
        },
        {
          "output_type": "stream",
          "name": "stdout",
          "text": [
            "Moviepy - Building video temp-{start}.mp4.\n",
            "Moviepy - Writing video temp-{start}.mp4\n",
            "\n"
          ]
        },
        {
          "output_type": "stream",
          "name": "stderr",
          "text": []
        },
        {
          "output_type": "stream",
          "name": "stdout",
          "text": [
            "Moviepy - Done !\n",
            "Moviepy - video ready temp-{start}.mp4\n"
          ]
        },
        {
          "output_type": "display_data",
          "data": {
            "text/plain": [
              "<IPython.core.display.Video object>"
            ],
            "text/html": [
              "<video controls  >\n",
              " <source src=\"data:video/mp4;base64,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\" type=\"video/mp4\">\n",
              " Your browser does not support the video tag.\n",
              " </video>"
            ]
          },
          "metadata": {}
        },
        {
          "output_type": "stream",
          "name": "stdout",
          "text": [
            "Total Reward: 500.0\n"
          ]
        }
      ]
    },
    {
      "cell_type": "markdown",
      "source": [
        "同じ実験を100回おこなって平均をとる，というのは省略（時間がかなりかかる）。"
      ],
      "metadata": {
        "id": "8f7WO0SGdu3-"
      }
    },
    {
      "cell_type": "markdown",
      "source": [
        "学習後のエージェントに greedy な行動をとらせたものが，上の動画。\n",
        "500ステップで打ち切られるまで，完全にバランスをとることができた。"
      ],
      "metadata": {
        "id": "JR87F0rYeLBY"
      }
    },
    {
      "cell_type": "markdown",
      "source": [
        "### 8.3 DQN と Atari"
      ],
      "metadata": {
        "id": "KwxrdbLGDiwB"
      }
    },
    {
      "cell_type": "markdown",
      "source": [
        "- DQN 論文: https://doi.org/10.48550/arXiv.1312.5602\n",
        "  - Volodymyr Mnih, Koray Kavukcuoglu, David Silver, Alex Graves, Ioannis Antonoglou, Daan Wierstra, Martin Riedmiller\n",
        "  - \"Playing Atari with Deep Reinforcement Learning\"\n",
        "  - NIPS Deep Learning Workshop 2013"
      ],
      "metadata": {
        "id": "Gh5ozBjGenuw"
      }
    },
    {
      "cell_type": "markdown",
      "source": [
        "DQN 論文のタイトルにある「Atari」とは[コンピュータゲーム制作会社](https://ja.wikipedia.org/wiki/%E3%82%A2%E3%82%BF%E3%83%AA_(%E4%BC%81%E6%A5%AD))（知らなかったが，2023年の今もまだある）。\n",
        "論文では Atari 社が制作した昔のゲームソフトのことを Atari と呼んでいる。"
      ],
      "metadata": {
        "id": "V-pKMrfae23j"
      }
    },
    {
      "cell_type": "markdown",
      "source": [
        "カートポールよりも複雑な，Atari の学習にはかなり時間がかかる。"
      ],
      "metadata": {
        "id": "lfGYYEqhfrsR"
      }
    },
    {
      "cell_type": "markdown",
      "source": [
        "#### 8.3.1 Atari のゲーム環境"
      ],
      "metadata": {
        "id": "qvFeH8GCEQsu"
      }
    },
    {
      "cell_type": "markdown",
      "source": [
        "Gymnasium に Atari の学習環境が用意されている。\n",
        "\n",
        "- https://gymnasium.farama.org/environments/atari/\n",
        "\n",
        "Gymnasium の Atari 環境では [Arcade Learning Environment (ALE)](https://github.com/mgbellemare/Arcade-Learning-Environment) を利用している。\n",
        "ゲームソフトの ROM データの取り扱いには注意が必要。\n",
        "\n",
        "> ALE-py doesn’t include the atari ROMs (`pip install gymnasium[atari]`) which are necessary to make any of the atari environments. To install the atari ROM, use `pip install gymnasium[accept-rom-license]` which will install AutoROM and download the ROMs, install them in the default location. In doing so, you agree to own a license to these Atari 2600 ROMs and agree to not distribution these ROMS.\n",
        ">\n",
        "> It is possible to install the ROMs in an alternative location, [AutoROM](https://github.com/Farama-Foundation/AutoROM) has more information."
      ],
      "metadata": {
        "id": "J_OwtAkff8gV"
      }
    },
    {
      "cell_type": "markdown",
      "source": [
        "ここでは Pong というゲームを扱う。\n",
        "\n",
        "ボールを打ち合うゲームで，左側に敵のボード，右側にプレイヤ自身のボードがあり，それぞれ上下に動かすことができる。\n",
        "\n",
        "- 状態: ゲームの画像（横201，縦160，RGB 3 チャンネル）\n",
        "- 行動: 自身の（右側の）ボードを上下に動かすなど，6つの行動"
      ],
      "metadata": {
        "id": "P6AGUKjzivdZ"
      }
    },
    {
      "cell_type": "markdown",
      "source": [
        "#### 8.3.2 前処理"
      ],
      "metadata": {
        "id": "VGmyE8zlEQy-"
      }
    },
    {
      "cell_type": "markdown",
      "source": [
        "カートポールと違い，Pong の observation には「速度」の情報が含まれない。現在の画像が observation である。したがって，次の状態を予測するために必要な情報が不足している。\n",
        "\n",
        "つまり，Pong 環境は MDP（マルコフ決定過程）ではない。\n",
        "POMDP（部分観測マルコフ決定過程; partially observable Markov decision process）とよばれる。\n",
        "\n",
        "DQN 論文では，4フレームの画像を重ね合わせて1つの「状態」とすることでボールの動きを判断できるようにして，POMDP を MDP に変形して解いている，らしい。一方で，POMDP を RNN で扱う手法もある。\n",
        "\n",
        "DQN では画像を重ね合わせる前に以下の処理をおこなっている。\n",
        "\n",
        "- 画像の周囲の無駄な部分をトリミング\n",
        "- グレイスケールへの変換\n",
        "- リサイズ\n",
        "- 正規化（画像の要素（明度？）を 0.0 から 1.0 の間に変換）\n"
      ],
      "metadata": {
        "id": "I4E0-kO-j6vA"
      }
    },
    {
      "cell_type": "markdown",
      "source": [
        "#### 8.3.3 CNN"
      ],
      "metadata": {
        "id": "t37FCK-PEQ37"
      }
    },
    {
      "cell_type": "markdown",
      "source": [
        "カートポールでは全結合層を用いた。\n",
        "\n",
        "画像を扱う Pong では CNN（畳み込みニューラルネットワーク; convolutional neural network）が有効である。"
      ],
      "metadata": {
        "id": "jtcBDP0DltfQ"
      }
    },
    {
      "cell_type": "markdown",
      "source": [
        "#### 8.3.4 その他の工夫"
      ],
      "metadata": {
        "id": "xEQjdBnoEQ-i"
      }
    },
    {
      "cell_type": "markdown",
      "source": [
        "- GPU の使用\n",
        "- $\\varepsilon$ の調整\n",
        "  - 初期の段階では探索を多く，徐々に少なく\n",
        "  - DQN論文では，\n",
        "    - 最初の100万ステップは $\\varepsilon$ を $1.0$ から $0.1$ まで線形に減少させる。\n",
        "    - それ以降は $\\varepsilon=0.1$ で固定\n",
        "- 報酬クリッピング（reward clipping）\n",
        "  - DQN 論文では，報酬を $-1.0$ から $1.0$ の範囲に収まるように調整している\n",
        "  - Pong 環境ではもともと報酬が $-1,0,1$ のいずれかであるため，調整は不要"
      ],
      "metadata": {
        "id": "KfAKC566mB31"
      }
    },
    {
      "cell_type": "markdown",
      "source": [
        "### 8.4 DQN の拡張"
      ],
      "metadata": {
        "id": "TldyMcY9Diy0"
      }
    },
    {
      "cell_type": "markdown",
      "source": [
        "#### 8.4.1 Double DQN"
      ],
      "metadata": {
        "id": "Wl9HplwqEdiq"
      }
    },
    {
      "cell_type": "markdown",
      "source": [
        "- [13] Van Hasselt, Hado, Arthur Guez, and David Silver. “Deep reinforcement\n",
        "learning with double q-learning.” Proceedings of the AAAI conference on\n",
        "artificial intelligence. Vol. 30. No. 1. 2016.\n",
        "  - https://doi.org/10.48550/arXiv.1509.06461"
      ],
      "metadata": {
        "id": "tyxBBLPWnfM4"
      }
    },
    {
      "cell_type": "markdown",
      "source": [
        "TD ターゲットを\n",
        "\n",
        "- $\\displaystyle R_t + \\gamma \\max_a Q_{\\theta'}(S_{t+1},a)$ から\n",
        "- $\\displaystyle R_t + \\gamma Q_{\\theta'}(S_{t+1},\\underset{a} {\\operatorname{argmax}} Q_{\\theta}(S_{t+1},a))$ に変更する\n",
        "\n",
        "これにより，Q 関数の過大評価を避けることができる。\n",
        "\n",
        "詳しくは「付録C Double DQN の理解」を参照。"
      ],
      "metadata": {
        "id": "Stg2sN65n2UU"
      }
    },
    {
      "cell_type": "markdown",
      "source": [
        "#### 8.4.2 優先度付き経験再生"
      ],
      "metadata": {
        "id": "-EBPUUn5Edzg"
      }
    },
    {
      "cell_type": "markdown",
      "source": [
        "- [14] Schaul, Tom, et al. “Prioritized experience replay.” arXiv preprint\n",
        "arXiv:1511.05952 (2015).\n",
        "  - https://doi.org/10.48550/arXiv.1511.05952"
      ],
      "metadata": {
        "id": "3zzhTz5WVHd1"
      }
    },
    {
      "cell_type": "markdown",
      "source": [
        "経験データをランダムに（一様分布にもとづいて）選ぶのではなく，優先度にしたがって選ぶ。"
      ],
      "metadata": {
        "id": "_KsKFQ9xVgwP"
      }
    },
    {
      "cell_type": "markdown",
      "source": [
        "経験データの優先度は\n",
        "\n",
        "$$\n",
        "\\delta_t = \\left| R_t + \\gamma \\max_a Q_{\\theta'}(S_{t+1},a) - Q_{\\theta}(S_t,A_t) \\right|\n",
        "$$\n",
        "\n",
        "つまり，\n",
        "\n",
        "- TD ターゲット $\\displaystyle R_t + \\gamma \\max_a Q_{\\theta'}(S_{t+1},a)$\n",
        "- 現在方策におけるの Q 関数の値 $Q_{\\theta}(S_t,A_t)$\n",
        "\n",
        "の差の絶対値を優先度とする。"
      ],
      "metadata": {
        "id": "ztUc1TD6VrHA"
      }
    },
    {
      "cell_type": "markdown",
      "source": [
        "要するに，大きく間違っているところ（学ぶべきことが多いところ）に注目して優先的に訓練をおこなう，ということ。"
      ],
      "metadata": {
        "id": "xKZ471xuXqzs"
      }
    },
    {
      "cell_type": "markdown",
      "source": [
        "優先度付き経験再生では，経験データを保存するときに優先度 $\\delta_t$ も計算し，$(S_t,A_t,R_t,S_{t+1},\\delta_t)$ をバッファに格納する。"
      ],
      "metadata": {
        "id": "4sOkM7tVYFBe"
      }
    },
    {
      "cell_type": "markdown",
      "source": [
        "バッファから経験データを取り出す際には，第 $i$ 番目のデータを取り出す確率が $\\delta_i$ に比例するようにする。"
      ],
      "metadata": {
        "id": "aObMQauAY8vA"
      }
    },
    {
      "cell_type": "markdown",
      "source": [
        "#### 8.4.3 Dueling DQN"
      ],
      "metadata": {
        "id": "Gwy5zuXcEd59"
      }
    },
    {
      "cell_type": "markdown",
      "source": [
        "- [15] Wang, Ziyu, et al. “Dueling network architectures for deep reinforcement\n",
        "learning.” International conference on machine learning. PMLR, 2016.\n",
        "  - https://doi.org/10.48550/arXiv.1511.06581"
      ],
      "metadata": {
        "id": "vshf3FFDZea-"
      }
    },
    {
      "cell_type": "markdown",
      "source": [
        "以下の **アドバンテージ関数（advantage fuction）** を用いる。\n",
        "\n",
        "$$\n",
        "A_\\pi(s,a) = Q_\\pi(s,a) - V_\\pi(s)\n",
        "$$\n",
        "\n",
        "ここで，状態 $s$ において，\n",
        "\n",
        "- $Q_\\pi(s,a)$ : ある決まった行動 $a$ をとるときの価値\n",
        "- $V_\\pi(s)$: 方策 $\\pi$ にしたがって選ばれた行動をとるときの価値\n",
        "\n",
        "であるから，アドバンテージ関数の値が大きさは，行動 $a$ が現状の方策 $\\pi$ で選ばれる行動と比べてどれくらい良いかを表している，と解釈できる。"
      ],
      "metadata": {
        "id": "PSn1YTAuZ_aK"
      }
    },
    {
      "cell_type": "markdown",
      "source": [
        "上の式を変形すると\n",
        "\n",
        "$$\n",
        "Q_\\pi(s,a) = A_\\pi(s,a) + V_\\pi(s)\n",
        "$$\n",
        "\n",
        "となる。\n",
        "\n",
        "ネットワークとして途中までを共有しながら，途中で枝分かれして，アドバンテージ関数 $A_\\pi(s,a)$ と状態価値関数 $V_\\pi(s)$ をそれぞれ訓練するようなネットワークを考えることができる。これが Dueling DQN である。"
      ],
      "metadata": {
        "id": "mw-BaVTLcME8"
      }
    },
    {
      "cell_type": "markdown",
      "source": [
        "アドバンテージ関数と状態価値関数を分離して学習することが有効であるのはどんな状況だろうか。たとえば，「ある状態 $s$ において，どんな行動をしても結果がほとんど変わらない（勝敗や，得られる報酬がほぼ確定している）」ような状況においては有効である。\n",
        "\n",
        "より具体的には，Pong で，ボールが自陣に到達する直前で，バーを速く動かしても間に合わないような状況がそれにあたる。いろんな行動を試さずとも，$V(s)$ が適切に更新されれば $Q(s,a)$ の値がまとめて更新されるようになる。"
      ],
      "metadata": {
        "id": "2qU-mE9BLH8k"
      }
    },
    {
      "cell_type": "markdown",
      "source": [
        "### 8.5 まとめ"
      ],
      "metadata": {
        "id": "6j7pPlD_Di1Z"
      }
    },
    {
      "cell_type": "markdown",
      "source": [
        "- DQN でキーとなるのは\n",
        "  - 経験再生: データ効率が良くなり，サンプル間にある相関性を減らすことができる\n",
        "  - ターゲットネットワーク: TD ターゲットが固定され，ニューラルネットワークの学習が安定する\n",
        "- DQN を拡張した手法"
      ],
      "metadata": {
        "id": "6LBkQJ2TMFQ4"
      }
    },
    {
      "cell_type": "code",
      "source": [],
      "metadata": {
        "id": "YzJT1YWQShJQ"
      },
      "execution_count": null,
      "outputs": []
    }
  ]
}